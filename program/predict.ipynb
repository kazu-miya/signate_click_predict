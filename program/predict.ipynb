{
 "cells": [
  {
   "cell_type": "code",
   "execution_count": 1,
   "metadata": {},
   "outputs": [
    {
     "name": "stderr",
     "output_type": "stream",
     "text": [
      "C:\\Users\\miyak\\Anaconda3\\lib\\site-packages\\ipykernel_launcher.py:6: FutureWarning: read_table is deprecated, use read_csv instead.\n",
      "  \n",
      "C:\\Users\\miyak\\Anaconda3\\lib\\site-packages\\ipykernel_launcher.py:10: FutureWarning: read_table is deprecated, use read_csv instead.\n",
      "  # Remove the CWD from sys.path while we load stuff.\n"
     ]
    }
   ],
   "source": [
    "%matplotlib inline\n",
    "import matplotlib.pyplot as plt\n",
    "import numpy as np\n",
    "import pandas as pd\n",
    "\n",
    "df_tsv = pd.read_table('../input/train.tsv',sep='\\t')\n",
    "train_x=df_tsv.drop(['id','click'], axis=1)\n",
    "\n",
    "train_y = df_tsv['click']\n",
    "df_tsv_test = pd.read_table('../input/test.tsv',sep='\\t')\n",
    "test_x = df_tsv_test.drop(['id'], axis=1)\n",
    "\n",
    "train_x_saved = train_x.copy()\n",
    "test_x_saved = test_x.copy()\n",
    "\n",
    "# 学習データとテストデータを返す関数\n",
    "def load_data():\n",
    "    train_x, test_x = train_x_saved.copy(), test_x_saved.copy()\n",
    "    return train_x, test_x\n",
    "\n",
    "# データの読み込み\n",
    "train_x, test_x = load_data()"
   ]
  },
  {
   "cell_type": "code",
   "execution_count": 2,
   "metadata": {},
   "outputs": [],
   "source": [
    "yes=df_tsv[df_tsv.click!=0]"
   ]
  },
  {
   "cell_type": "code",
   "execution_count": 3,
   "metadata": {},
   "outputs": [],
   "source": [
    "no=df_tsv[df_tsv.click!=1]"
   ]
  },
  {
   "cell_type": "code",
   "execution_count": null,
   "metadata": {},
   "outputs": [],
   "source": [
    "#I4 target encoding\n",
    "#I5 外れ値指定\n",
    "#I3 target encoding\n",
    "#I11～I13 欠損値をxgbで上書き"
   ]
  },
  {
   "cell_type": "code",
   "execution_count": 24,
   "metadata": {},
   "outputs": [],
   "source": [
    "y_I3=yes['I3']\n",
    "y_I4=yes['I4']\n",
    "y_I5=yes['I5']\n",
    "n_I4=no['I4']\n",
    "n_I3=no['I3']\n",
    "n_I5=no['I5']"
   ]
  },
  {
   "cell_type": "code",
   "execution_count": 28,
   "metadata": {},
   "outputs": [
    {
     "data": {
      "text/plain": [
       "(array([74215.,     0.,     0.,     0.,     0.,  8303.,     0.,     0.,\n",
       "            0.,  5229.]),\n",
       " array([0. , 0.2, 0.4, 0.6, 0.8, 1. , 1.2, 1.4, 1.6, 1.8, 2. ]),\n",
       " <a list of 10 Patch objects>)"
      ]
     },
     "execution_count": 28,
     "metadata": {},
     "output_type": "execute_result"
    },
    {
     "data": {
      "image/png": "[encoded data removed]",
      "text/plain": [
       "<Figure size 432x288 with 1 Axes>"
      ]
     },
     "metadata": {
      "needs_background": "light"
     },
     "output_type": "display_data"
    }
   ],
   "source": [
    "plt.hist(y_I4)"
   ]
  },
  {
   "cell_type": "code",
   "execution_count": 27,
   "metadata": {},
   "outputs": [
    {
     "data": {
      "text/plain": [
       "(array([691214.,      0.,      0.,      0.,      0., 251511.,      0.,\n",
       "             0.,      0., 138570.]),\n",
       " array([0. , 0.2, 0.4, 0.6, 0.8, 1. , 1.2, 1.4, 1.6, 1.8, 2. ]),\n",
       " <a list of 10 Patch objects>)"
      ]
     },
     "execution_count": 27,
     "metadata": {},
     "output_type": "execute_result"
    },
    {
     "data": {
      "image/png": "[encoded data removed]",
      "text/plain": [
       "<Figure size 432x288 with 1 Axes>"
      ]
     },
     "metadata": {
      "needs_background": "light"
     },
     "output_type": "display_data"
    }
   ],
   "source": [
    "plt.hist(n_I4)"
   ]
  },
  {
   "cell_type": "code",
   "execution_count": 37,
   "metadata": {},
   "outputs": [],
   "source": [
    "yes_I11_NaN=yes.dropna(subset=['I11'])\n",
    "no_I11_NaN=no.dropna(subset=['I11'])"
   ]
  },
  {
   "cell_type": "code",
   "execution_count": 36,
   "metadata": {},
   "outputs": [
    {
     "data": {
      "text/plain": [
       "(72800, 22)"
      ]
     },
     "execution_count": 36,
     "metadata": {},
     "output_type": "execute_result"
    }
   ],
   "source": [
    "yes_I11_NaN.shape"
   ]
  },
  {
   "cell_type": "code",
   "execution_count": 38,
   "metadata": {},
   "outputs": [
    {
     "data": {
      "text/plain": [
       "(908954, 22)"
      ]
     },
     "execution_count": 38,
     "metadata": {},
     "output_type": "execute_result"
    }
   ],
   "source": [
    "no_I11_NaN.shape"
   ]
  },
  {
   "cell_type": "code",
   "execution_count": 46,
   "metadata": {},
   "outputs": [],
   "source": [
    "yes_cnt=yes.shape[0]"
   ]
  },
  {
   "cell_type": "code",
   "execution_count": 47,
   "metadata": {},
   "outputs": [],
   "source": [
    "no_cnt=no.shape[0]"
   ]
  },
  {
   "cell_type": "code",
   "execution_count": 42,
   "metadata": {},
   "outputs": [],
   "source": [
    "yes_I14_NaN=yes.dropna(subset=['I14'])\n",
    "no_I14_NaN=no.dropna(subset=['I14'])"
   ]
  },
  {
   "cell_type": "code",
   "execution_count": 48,
   "metadata": {},
   "outputs": [
    {
     "data": {
      "text/plain": [
       "0.9865066611963942"
      ]
     },
     "execution_count": 48,
     "metadata": {},
     "output_type": "execute_result"
    }
   ],
   "source": [
    "#欠損値割合(クリックあり)\n",
    "yes_I14_NaN.shape[0]/yes_cnt"
   ]
  },
  {
   "cell_type": "code",
   "execution_count": 49,
   "metadata": {},
   "outputs": [
    {
     "data": {
      "text/plain": [
       "0.9644537337174407"
      ]
     },
     "execution_count": 49,
     "metadata": {},
     "output_type": "execute_result"
    }
   ],
   "source": [
    "#欠損値割合(クリック無し)\n",
    "no_I14_NaN.shape[0]/no_cnt"
   ]
  },
  {
   "cell_type": "code",
   "execution_count": 50,
   "metadata": {},
   "outputs": [
    {
     "name": "stdout",
     "output_type": "stream",
     "text": [
      "[0]\ttrain-logloss:0.500444\teval-logloss:0.50074\n",
      "Multiple eval metrics have been passed: 'eval-logloss' will be used for early stopping.\n",
      "\n",
      "Will train until eval-logloss hasn't improved in 20 rounds.\n",
      "[1]\ttrain-logloss:0.395754\teval-logloss:0.396286\n",
      "[2]\ttrain-logloss:0.332717\teval-logloss:0.333449\n",
      "[3]\ttrain-logloss:0.292944\teval-logloss:0.293815\n",
      "[4]\ttrain-logloss:0.267398\teval-logloss:0.268479\n",
      "[5]\ttrain-logloss:0.250331\teval-logloss:0.251523\n",
      "[6]\ttrain-logloss:0.238998\teval-logloss:0.240334\n",
      "[7]\ttrain-logloss:0.231768\teval-logloss:0.233237\n",
      "[8]\ttrain-logloss:0.225989\teval-logloss:0.227636\n",
      "[9]\ttrain-logloss:0.22253\teval-logloss:0.22436\n",
      "[10]\ttrain-logloss:0.220027\teval-logloss:0.222017\n",
      "[11]\ttrain-logloss:0.217925\teval-logloss:0.220065\n",
      "[12]\ttrain-logloss:0.216205\teval-logloss:0.218447\n",
      "[13]\ttrain-logloss:0.215149\teval-logloss:0.217534\n",
      "[14]\ttrain-logloss:0.214259\teval-logloss:0.216754\n",
      "[15]\ttrain-logloss:0.213463\teval-logloss:0.216091\n",
      "[16]\ttrain-logloss:0.212957\teval-logloss:0.215684\n",
      "[17]\ttrain-logloss:0.212411\teval-logloss:0.215246\n",
      "[18]\ttrain-logloss:0.212006\teval-logloss:0.214929\n",
      "[19]\ttrain-logloss:0.211382\teval-logloss:0.214398\n",
      "[20]\ttrain-logloss:0.211068\teval-logloss:0.2142\n",
      "[21]\ttrain-logloss:0.210706\teval-logloss:0.213912\n",
      "[22]\ttrain-logloss:0.21041\teval-logloss:0.21369\n",
      "[23]\ttrain-logloss:0.210124\teval-logloss:0.213461\n",
      "[24]\ttrain-logloss:0.209847\teval-logloss:0.213299\n",
      "[25]\ttrain-logloss:0.209544\teval-logloss:0.213088\n",
      "[26]\ttrain-logloss:0.209324\teval-logloss:0.212954\n",
      "[27]\ttrain-logloss:0.209096\teval-logloss:0.212813\n",
      "[28]\ttrain-logloss:0.208857\teval-logloss:0.212642\n",
      "[29]\ttrain-logloss:0.208756\teval-logloss:0.212597\n",
      "[30]\ttrain-logloss:0.20857\teval-logloss:0.212431\n",
      "[31]\ttrain-logloss:0.208453\teval-logloss:0.212376\n",
      "[32]\ttrain-logloss:0.208166\teval-logloss:0.212215\n",
      "[33]\ttrain-logloss:0.207991\teval-logloss:0.212123\n",
      "[34]\ttrain-logloss:0.207815\teval-logloss:0.212054\n",
      "[35]\ttrain-logloss:0.207632\teval-logloss:0.211954\n",
      "[36]\ttrain-logloss:0.207445\teval-logloss:0.211828\n",
      "[37]\ttrain-logloss:0.207342\teval-logloss:0.211777\n",
      "[38]\ttrain-logloss:0.207159\teval-logloss:0.211713\n",
      "[39]\ttrain-logloss:0.207043\teval-logloss:0.21166\n",
      "[40]\ttrain-logloss:0.20694\teval-logloss:0.211616\n",
      "[41]\ttrain-logloss:0.206762\teval-logloss:0.211547\n",
      "[42]\ttrain-logloss:0.206717\teval-logloss:0.211524\n",
      "[43]\ttrain-logloss:0.206593\teval-logloss:0.211468\n",
      "[44]\ttrain-logloss:0.206396\teval-logloss:0.211377\n",
      "[45]\ttrain-logloss:0.206317\teval-logloss:0.211343\n",
      "[46]\ttrain-logloss:0.206183\teval-logloss:0.211291\n",
      "[47]\ttrain-logloss:0.206006\teval-logloss:0.211163\n",
      "[48]\ttrain-logloss:0.205909\teval-logloss:0.211146\n",
      "[49]\ttrain-logloss:0.205772\teval-logloss:0.211103\n",
      "[50]\ttrain-logloss:0.205576\teval-logloss:0.211005\n",
      "[51]\ttrain-logloss:0.205416\teval-logloss:0.210958\n",
      "[52]\ttrain-logloss:0.205314\teval-logloss:0.210897\n",
      "[53]\ttrain-logloss:0.205295\teval-logloss:0.2109\n",
      "[54]\ttrain-logloss:0.20524\teval-logloss:0.210893\n",
      "[55]\ttrain-logloss:0.205209\teval-logloss:0.210887\n",
      "[56]\ttrain-logloss:0.205107\teval-logloss:0.210909\n",
      "[57]\ttrain-logloss:0.205056\teval-logloss:0.210891\n",
      "[58]\ttrain-logloss:0.20498\teval-logloss:0.210893\n",
      "[59]\ttrain-logloss:0.204829\teval-logloss:0.210836\n",
      "[60]\ttrain-logloss:0.204712\teval-logloss:0.210783\n",
      "[61]\ttrain-logloss:0.204535\teval-logloss:0.210703\n",
      "[62]\ttrain-logloss:0.204494\teval-logloss:0.21069\n",
      "[63]\ttrain-logloss:0.204422\teval-logloss:0.210688\n",
      "[64]\ttrain-logloss:0.204408\teval-logloss:0.210691\n",
      "[65]\ttrain-logloss:0.204279\teval-logloss:0.210628\n",
      "[66]\ttrain-logloss:0.204193\teval-logloss:0.210628\n",
      "[67]\ttrain-logloss:0.204173\teval-logloss:0.21062\n",
      "[68]\ttrain-logloss:0.204114\teval-logloss:0.210636\n",
      "[69]\ttrain-logloss:0.204003\teval-logloss:0.210602\n",
      "[70]\ttrain-logloss:0.203874\teval-logloss:0.210539\n",
      "[71]\ttrain-logloss:0.203779\teval-logloss:0.21051\n",
      "[72]\ttrain-logloss:0.203679\teval-logloss:0.210489\n",
      "[73]\ttrain-logloss:0.203483\teval-logloss:0.210382\n",
      "[74]\ttrain-logloss:0.20336\teval-logloss:0.210347\n",
      "[75]\ttrain-logloss:0.203349\teval-logloss:0.210343\n",
      "[76]\ttrain-logloss:0.20327\teval-logloss:0.210339\n",
      "[77]\ttrain-logloss:0.203165\teval-logloss:0.210305\n",
      "[78]\ttrain-logloss:0.203098\teval-logloss:0.21028\n",
      "[79]\ttrain-logloss:0.203039\teval-logloss:0.210273\n",
      "[80]\ttrain-logloss:0.2029\teval-logloss:0.210235\n",
      "[81]\ttrain-logloss:0.202882\teval-logloss:0.210238\n",
      "[82]\ttrain-logloss:0.202772\teval-logloss:0.210219\n",
      "[83]\ttrain-logloss:0.202708\teval-logloss:0.210203\n",
      "[84]\ttrain-logloss:0.202666\teval-logloss:0.210223\n",
      "[85]\ttrain-logloss:0.202537\teval-logloss:0.21022\n",
      "[86]\ttrain-logloss:0.202447\teval-logloss:0.210221\n",
      "[87]\ttrain-logloss:0.202439\teval-logloss:0.210222\n",
      "[88]\ttrain-logloss:0.202318\teval-logloss:0.210167\n",
      "[89]\ttrain-logloss:0.202307\teval-logloss:0.210169\n",
      "[90]\ttrain-logloss:0.202202\teval-logloss:0.210132\n",
      "[91]\ttrain-logloss:0.202114\teval-logloss:0.210085\n",
      "[92]\ttrain-logloss:0.202107\teval-logloss:0.21009\n",
      "[93]\ttrain-logloss:0.202034\teval-logloss:0.21008\n",
      "[94]\ttrain-logloss:0.201943\teval-logloss:0.210056\n",
      "[95]\ttrain-logloss:0.201847\teval-logloss:0.210063\n",
      "[96]\ttrain-logloss:0.20172\teval-logloss:0.210021\n",
      "[97]\ttrain-logloss:0.20164\teval-logloss:0.210016\n",
      "[98]\ttrain-logloss:0.201634\teval-logloss:0.21002\n",
      "[99]\ttrain-logloss:0.201532\teval-logloss:0.210021\n",
      "[100]\ttrain-logloss:0.20148\teval-logloss:0.210019\n",
      "[101]\ttrain-logloss:0.201397\teval-logloss:0.210012\n",
      "[102]\ttrain-logloss:0.201304\teval-logloss:0.209975\n",
      "[103]\ttrain-logloss:0.201207\teval-logloss:0.209971\n",
      "[104]\ttrain-logloss:0.201137\teval-logloss:0.209957\n",
      "[105]\ttrain-logloss:0.201049\teval-logloss:0.209917\n",
      "[106]\ttrain-logloss:0.200945\teval-logloss:0.209904\n",
      "[107]\ttrain-logloss:0.200919\teval-logloss:0.209898\n",
      "[108]\ttrain-logloss:0.200871\teval-logloss:0.209886\n",
      "[109]\ttrain-logloss:0.200785\teval-logloss:0.209884\n",
      "[110]\ttrain-logloss:0.200669\teval-logloss:0.209823\n",
      "[111]\ttrain-logloss:0.200659\teval-logloss:0.209826\n",
      "[112]\ttrain-logloss:0.200553\teval-logloss:0.209814\n",
      "[113]\ttrain-logloss:0.200538\teval-logloss:0.20982\n",
      "[114]\ttrain-logloss:0.20047\teval-logloss:0.209828\n",
      "[115]\ttrain-logloss:0.200396\teval-logloss:0.209825\n",
      "[116]\ttrain-logloss:0.200393\teval-logloss:0.209827\n",
      "[117]\ttrain-logloss:0.200309\teval-logloss:0.209801\n",
      "[118]\ttrain-logloss:0.20023\teval-logloss:0.209797\n",
      "[119]\ttrain-logloss:0.200204\teval-logloss:0.209793\n",
      "[120]\ttrain-logloss:0.200196\teval-logloss:0.209796\n",
      "[121]\ttrain-logloss:0.200156\teval-logloss:0.209799\n",
      "[122]\ttrain-logloss:0.200097\teval-logloss:0.209784\n",
      "[123]\ttrain-logloss:0.200082\teval-logloss:0.209783\n",
      "[124]\ttrain-logloss:0.200059\teval-logloss:0.209789\n",
      "[125]\ttrain-logloss:0.199985\teval-logloss:0.209792\n",
      "[126]\ttrain-logloss:0.199922\teval-logloss:0.209786\n",
      "[127]\ttrain-logloss:0.199872\teval-logloss:0.20979\n",
      "[128]\ttrain-logloss:0.199793\teval-logloss:0.209768\n",
      "[129]\ttrain-logloss:0.199734\teval-logloss:0.209763\n",
      "[130]\ttrain-logloss:0.199689\teval-logloss:0.209773\n",
      "[131]\ttrain-logloss:0.19967\teval-logloss:0.209776\n",
      "[132]\ttrain-logloss:0.199592\teval-logloss:0.209774\n",
      "[133]\ttrain-logloss:0.199503\teval-logloss:0.209759\n",
      "[134]\ttrain-logloss:0.199483\teval-logloss:0.209758\n",
      "[135]\ttrain-logloss:0.19948\teval-logloss:0.20976\n",
      "[136]\ttrain-logloss:0.19945\teval-logloss:0.209765\n",
      "[137]\ttrain-logloss:0.199381\teval-logloss:0.20979\n",
      "[138]\ttrain-logloss:0.19932\teval-logloss:0.209792\n",
      "[139]\ttrain-logloss:0.199253\teval-logloss:0.209783\n",
      "[140]\ttrain-logloss:0.199198\teval-logloss:0.209758\n",
      "[141]\ttrain-logloss:0.199123\teval-logloss:0.209744\n",
      "[142]\ttrain-logloss:0.199012\teval-logloss:0.209732\n",
      "[143]\ttrain-logloss:0.198957\teval-logloss:0.209728\n",
      "[144]\ttrain-logloss:0.198936\teval-logloss:0.20974\n",
      "[145]\ttrain-logloss:0.198862\teval-logloss:0.209746\n",
      "[146]\ttrain-logloss:0.198841\teval-logloss:0.209744\n",
      "[147]\ttrain-logloss:0.198829\teval-logloss:0.209748\n",
      "[148]\ttrain-logloss:0.198769\teval-logloss:0.20974\n",
      "[149]\ttrain-logloss:0.198715\teval-logloss:0.20974\n",
      "[150]\ttrain-logloss:0.198637\teval-logloss:0.209725\n",
      "[151]\ttrain-logloss:0.198583\teval-logloss:0.209736\n",
      "[152]\ttrain-logloss:0.198536\teval-logloss:0.209726\n",
      "[153]\ttrain-logloss:0.19849\teval-logloss:0.209711\n",
      "[154]\ttrain-logloss:0.198432\teval-logloss:0.209722\n",
      "[155]\ttrain-logloss:0.198352\teval-logloss:0.209724\n",
      "[156]\ttrain-logloss:0.198325\teval-logloss:0.209717\n",
      "[157]\ttrain-logloss:0.198317\teval-logloss:0.209715\n",
      "[158]\ttrain-logloss:0.198248\teval-logloss:0.209725\n",
      "[159]\ttrain-logloss:0.198162\teval-logloss:0.209688\n",
      "[160]\ttrain-logloss:0.1981\teval-logloss:0.209667\n"
     ]
    },
    {
     "name": "stdout",
     "output_type": "stream",
     "text": [
      "[161]\ttrain-logloss:0.198071\teval-logloss:0.209664\n",
      "[162]\ttrain-logloss:0.197997\teval-logloss:0.209657\n",
      "[163]\ttrain-logloss:0.197911\teval-logloss:0.209642\n",
      "[164]\ttrain-logloss:0.197826\teval-logloss:0.209661\n",
      "[165]\ttrain-logloss:0.197744\teval-logloss:0.20963\n",
      "[166]\ttrain-logloss:0.197675\teval-logloss:0.209611\n",
      "[167]\ttrain-logloss:0.197624\teval-logloss:0.209618\n",
      "[168]\ttrain-logloss:0.197574\teval-logloss:0.209605\n",
      "[169]\ttrain-logloss:0.197506\teval-logloss:0.209593\n",
      "[170]\ttrain-logloss:0.197447\teval-logloss:0.209594\n",
      "[171]\ttrain-logloss:0.197371\teval-logloss:0.209587\n",
      "[172]\ttrain-logloss:0.197319\teval-logloss:0.209579\n",
      "[173]\ttrain-logloss:0.197245\teval-logloss:0.209583\n",
      "[174]\ttrain-logloss:0.197168\teval-logloss:0.20958\n",
      "[175]\ttrain-logloss:0.197134\teval-logloss:0.209584\n",
      "[176]\ttrain-logloss:0.197096\teval-logloss:0.209568\n",
      "[177]\ttrain-logloss:0.197044\teval-logloss:0.209554\n",
      "[178]\ttrain-logloss:0.197033\teval-logloss:0.209554\n",
      "[179]\ttrain-logloss:0.196966\teval-logloss:0.209573\n",
      "[180]\ttrain-logloss:0.196913\teval-logloss:0.209585\n",
      "[181]\ttrain-logloss:0.196846\teval-logloss:0.209572\n",
      "[182]\ttrain-logloss:0.196792\teval-logloss:0.209562\n",
      "[183]\ttrain-logloss:0.196734\teval-logloss:0.209574\n",
      "[184]\ttrain-logloss:0.196628\teval-logloss:0.209538\n",
      "[185]\ttrain-logloss:0.196548\teval-logloss:0.209537\n",
      "[186]\ttrain-logloss:0.196459\teval-logloss:0.209537\n",
      "[187]\ttrain-logloss:0.196427\teval-logloss:0.209536\n",
      "[188]\ttrain-logloss:0.196352\teval-logloss:0.209532\n",
      "[189]\ttrain-logloss:0.196322\teval-logloss:0.209535\n",
      "[190]\ttrain-logloss:0.196261\teval-logloss:0.209532\n",
      "[191]\ttrain-logloss:0.196212\teval-logloss:0.209531\n",
      "[192]\ttrain-logloss:0.196159\teval-logloss:0.20954\n",
      "[193]\ttrain-logloss:0.196116\teval-logloss:0.209526\n",
      "[194]\ttrain-logloss:0.196054\teval-logloss:0.209526\n",
      "[195]\ttrain-logloss:0.195972\teval-logloss:0.209514\n",
      "[196]\ttrain-logloss:0.1959\teval-logloss:0.209503\n",
      "[197]\ttrain-logloss:0.195891\teval-logloss:0.209505\n",
      "[198]\ttrain-logloss:0.195798\teval-logloss:0.209497\n",
      "[199]\ttrain-logloss:0.195735\teval-logloss:0.209493\n",
      "[200]\ttrain-logloss:0.195676\teval-logloss:0.209504\n",
      "[201]\ttrain-logloss:0.195596\teval-logloss:0.209503\n",
      "[202]\ttrain-logloss:0.195592\teval-logloss:0.209508\n",
      "[203]\ttrain-logloss:0.195532\teval-logloss:0.209504\n",
      "[204]\ttrain-logloss:0.195477\teval-logloss:0.209516\n",
      "[205]\ttrain-logloss:0.195391\teval-logloss:0.209511\n",
      "[206]\ttrain-logloss:0.195324\teval-logloss:0.209509\n",
      "[207]\ttrain-logloss:0.195249\teval-logloss:0.2095\n",
      "[208]\ttrain-logloss:0.195179\teval-logloss:0.209507\n",
      "[209]\ttrain-logloss:0.19511\teval-logloss:0.209507\n",
      "[210]\ttrain-logloss:0.195073\teval-logloss:0.209504\n",
      "[211]\ttrain-logloss:0.195027\teval-logloss:0.209513\n",
      "[212]\ttrain-logloss:0.19495\teval-logloss:0.209484\n",
      "[213]\ttrain-logloss:0.194945\teval-logloss:0.209487\n",
      "[214]\ttrain-logloss:0.19493\teval-logloss:0.209491\n",
      "[215]\ttrain-logloss:0.194926\teval-logloss:0.209494\n",
      "[216]\ttrain-logloss:0.194843\teval-logloss:0.209508\n",
      "[217]\ttrain-logloss:0.194773\teval-logloss:0.209495\n",
      "[218]\ttrain-logloss:0.194694\teval-logloss:0.209502\n",
      "[219]\ttrain-logloss:0.194641\teval-logloss:0.209518\n",
      "[220]\ttrain-logloss:0.194565\teval-logloss:0.209515\n",
      "[221]\ttrain-logloss:0.194505\teval-logloss:0.209517\n",
      "[222]\ttrain-logloss:0.194454\teval-logloss:0.209531\n",
      "[223]\ttrain-logloss:0.194426\teval-logloss:0.209532\n",
      "[224]\ttrain-logloss:0.194393\teval-logloss:0.209532\n",
      "[225]\ttrain-logloss:0.194371\teval-logloss:0.209536\n",
      "[226]\ttrain-logloss:0.194345\teval-logloss:0.209539\n",
      "[227]\ttrain-logloss:0.19429\teval-logloss:0.209546\n",
      "[228]\ttrain-logloss:0.194241\teval-logloss:0.209558\n",
      "[229]\ttrain-logloss:0.194206\teval-logloss:0.209572\n",
      "[230]\ttrain-logloss:0.194153\teval-logloss:0.20958\n",
      "[231]\ttrain-logloss:0.194076\teval-logloss:0.209613\n",
      "[232]\ttrain-logloss:0.19403\teval-logloss:0.209609\n",
      "Stopping. Best iteration:\n",
      "[212]\ttrain-logloss:0.19495\teval-logloss:0.209484\n",
      "\n",
      "logloss: 0.2096\n",
      "[0]\ttrain-logloss:0.500606\teval-logloss:0.500614\n",
      "Multiple eval metrics have been passed: 'eval-logloss' will be used for early stopping.\n",
      "\n",
      "Will train until eval-logloss hasn't improved in 20 rounds.\n",
      "[1]\ttrain-logloss:0.395946\teval-logloss:0.395982\n",
      "[2]\ttrain-logloss:0.333092\teval-logloss:0.333186\n",
      "[3]\ttrain-logloss:0.293349\teval-logloss:0.293392\n",
      "[4]\ttrain-logloss:0.267716\teval-logloss:0.267801\n",
      "[5]\ttrain-logloss:0.250816\teval-logloss:0.250852\n",
      "[6]\ttrain-logloss:0.239392\teval-logloss:0.239488\n",
      "[7]\ttrain-logloss:0.231942\teval-logloss:0.232128\n",
      "[8]\ttrain-logloss:0.226919\teval-logloss:0.227093\n",
      "[9]\ttrain-logloss:0.222762\teval-logloss:0.223028\n",
      "[10]\ttrain-logloss:0.220443\teval-logloss:0.220814\n",
      "[11]\ttrain-logloss:0.218375\teval-logloss:0.218798\n",
      "[12]\ttrain-logloss:0.216955\teval-logloss:0.217455\n",
      "[13]\ttrain-logloss:0.21568\teval-logloss:0.216291\n",
      "[14]\ttrain-logloss:0.214546\teval-logloss:0.215272\n",
      "[15]\ttrain-logloss:0.21391\teval-logloss:0.21476\n",
      "[16]\ttrain-logloss:0.213197\teval-logloss:0.214153\n",
      "[17]\ttrain-logloss:0.212727\teval-logloss:0.213761\n",
      "[18]\ttrain-logloss:0.212286\teval-logloss:0.213452\n",
      "[19]\ttrain-logloss:0.21194\teval-logloss:0.213185\n",
      "[20]\ttrain-logloss:0.211511\teval-logloss:0.212843\n",
      "[21]\ttrain-logloss:0.211271\teval-logloss:0.212637\n",
      "[22]\ttrain-logloss:0.210873\teval-logloss:0.212345\n",
      "[23]\ttrain-logloss:0.210571\teval-logloss:0.212138\n",
      "[24]\ttrain-logloss:0.210196\teval-logloss:0.211872\n",
      "[25]\ttrain-logloss:0.209881\teval-logloss:0.21163\n",
      "[26]\ttrain-logloss:0.209692\teval-logloss:0.211522\n",
      "[27]\ttrain-logloss:0.209497\teval-logloss:0.211397\n",
      "[28]\ttrain-logloss:0.209284\teval-logloss:0.211298\n",
      "[29]\ttrain-logloss:0.208985\teval-logloss:0.211064\n",
      "[30]\ttrain-logloss:0.208713\teval-logloss:0.210908\n",
      "[31]\ttrain-logloss:0.208529\teval-logloss:0.210836\n",
      "[32]\ttrain-logloss:0.208283\teval-logloss:0.21069\n",
      "[33]\ttrain-logloss:0.208068\teval-logloss:0.210553\n",
      "[34]\ttrain-logloss:0.207867\teval-logloss:0.210426\n",
      "[35]\ttrain-logloss:0.207678\teval-logloss:0.21031\n",
      "[36]\ttrain-logloss:0.207513\teval-logloss:0.210205\n",
      "[37]\ttrain-logloss:0.20735\teval-logloss:0.210157\n",
      "[38]\ttrain-logloss:0.207252\teval-logloss:0.210137\n",
      "[39]\ttrain-logloss:0.20713\teval-logloss:0.210076\n",
      "[40]\ttrain-logloss:0.207064\teval-logloss:0.210061\n",
      "[41]\ttrain-logloss:0.206872\teval-logloss:0.209962\n",
      "[42]\ttrain-logloss:0.206679\teval-logloss:0.209827\n",
      "[43]\ttrain-logloss:0.206506\teval-logloss:0.209769\n",
      "[44]\ttrain-logloss:0.206312\teval-logloss:0.209666\n",
      "[45]\ttrain-logloss:0.206234\teval-logloss:0.209633\n",
      "[46]\ttrain-logloss:0.206151\teval-logloss:0.20962\n",
      "[47]\ttrain-logloss:0.205944\teval-logloss:0.209493\n",
      "[48]\ttrain-logloss:0.205863\teval-logloss:0.209497\n",
      "[49]\ttrain-logloss:0.205733\teval-logloss:0.209445\n",
      "[50]\ttrain-logloss:0.205616\teval-logloss:0.209413\n",
      "[51]\ttrain-logloss:0.205523\teval-logloss:0.20942\n",
      "[52]\ttrain-logloss:0.205492\teval-logloss:0.209414\n",
      "[53]\ttrain-logloss:0.205336\teval-logloss:0.209392\n",
      "[54]\ttrain-logloss:0.205228\teval-logloss:0.20935\n",
      "[55]\ttrain-logloss:0.205173\teval-logloss:0.209338\n",
      "[56]\ttrain-logloss:0.205074\teval-logloss:0.209274\n",
      "[57]\ttrain-logloss:0.204953\teval-logloss:0.209263\n",
      "[58]\ttrain-logloss:0.204875\teval-logloss:0.209256\n",
      "[59]\ttrain-logloss:0.204809\teval-logloss:0.209251\n",
      "[60]\ttrain-logloss:0.204787\teval-logloss:0.209232\n",
      "[61]\ttrain-logloss:0.204715\teval-logloss:0.209222\n",
      "[62]\ttrain-logloss:0.204697\teval-logloss:0.209219\n",
      "[63]\ttrain-logloss:0.204637\teval-logloss:0.209212\n",
      "[64]\ttrain-logloss:0.204521\teval-logloss:0.209192\n",
      "[65]\ttrain-logloss:0.204411\teval-logloss:0.209168\n",
      "[66]\ttrain-logloss:0.204305\teval-logloss:0.209106\n",
      "[67]\ttrain-logloss:0.204198\teval-logloss:0.209106\n",
      "[68]\ttrain-logloss:0.204025\teval-logloss:0.209011\n",
      "[69]\ttrain-logloss:0.204013\teval-logloss:0.20901\n",
      "[70]\ttrain-logloss:0.203883\teval-logloss:0.208954\n",
      "[71]\ttrain-logloss:0.203796\teval-logloss:0.208941\n",
      "[72]\ttrain-logloss:0.203736\teval-logloss:0.208928\n",
      "[73]\ttrain-logloss:0.203568\teval-logloss:0.208837\n",
      "[74]\ttrain-logloss:0.203459\teval-logloss:0.208811\n",
      "[75]\ttrain-logloss:0.203413\teval-logloss:0.208807\n",
      "[76]\ttrain-logloss:0.203321\teval-logloss:0.208772\n",
      "[77]\ttrain-logloss:0.203243\teval-logloss:0.208761\n",
      "[78]\ttrain-logloss:0.203214\teval-logloss:0.208764\n",
      "[79]\ttrain-logloss:0.203208\teval-logloss:0.208765\n",
      "[80]\ttrain-logloss:0.203155\teval-logloss:0.208744\n",
      "[81]\ttrain-logloss:0.203004\teval-logloss:0.208693\n",
      "[82]\ttrain-logloss:0.20288\teval-logloss:0.208611\n",
      "[83]\ttrain-logloss:0.202815\teval-logloss:0.208626\n",
      "[84]\ttrain-logloss:0.202762\teval-logloss:0.208621\n",
      "[85]\ttrain-logloss:0.202662\teval-logloss:0.208618\n",
      "[86]\ttrain-logloss:0.202628\teval-logloss:0.208611\n"
     ]
    },
    {
     "name": "stdout",
     "output_type": "stream",
     "text": [
      "[87]\ttrain-logloss:0.202565\teval-logloss:0.208619\n",
      "[88]\ttrain-logloss:0.202494\teval-logloss:0.208626\n",
      "[89]\ttrain-logloss:0.202443\teval-logloss:0.208634\n",
      "[90]\ttrain-logloss:0.202394\teval-logloss:0.208634\n",
      "[91]\ttrain-logloss:0.202297\teval-logloss:0.208603\n",
      "[92]\ttrain-logloss:0.202149\teval-logloss:0.208565\n",
      "[93]\ttrain-logloss:0.202091\teval-logloss:0.208573\n",
      "[94]\ttrain-logloss:0.202008\teval-logloss:0.208572\n",
      "[95]\ttrain-logloss:0.201956\teval-logloss:0.208579\n",
      "[96]\ttrain-logloss:0.201878\teval-logloss:0.208587\n",
      "[97]\ttrain-logloss:0.201797\teval-logloss:0.20859\n",
      "[98]\ttrain-logloss:0.201766\teval-logloss:0.208582\n",
      "[99]\ttrain-logloss:0.201688\teval-logloss:0.208603\n",
      "[100]\ttrain-logloss:0.201578\teval-logloss:0.208582\n",
      "[101]\ttrain-logloss:0.201526\teval-logloss:0.208588\n",
      "[102]\ttrain-logloss:0.201503\teval-logloss:0.208585\n",
      "[103]\ttrain-logloss:0.201389\teval-logloss:0.208521\n",
      "[104]\ttrain-logloss:0.201331\teval-logloss:0.208518\n",
      "[105]\ttrain-logloss:0.201246\teval-logloss:0.208522\n",
      "[106]\ttrain-logloss:0.201143\teval-logloss:0.208487\n",
      "[107]\ttrain-logloss:0.201044\teval-logloss:0.208484\n",
      "[108]\ttrain-logloss:0.200981\teval-logloss:0.208492\n",
      "[109]\ttrain-logloss:0.200921\teval-logloss:0.208485\n",
      "[110]\ttrain-logloss:0.200857\teval-logloss:0.208483\n",
      "[111]\ttrain-logloss:0.200789\teval-logloss:0.208448\n",
      "[112]\ttrain-logloss:0.200684\teval-logloss:0.208412\n",
      "[113]\ttrain-logloss:0.200574\teval-logloss:0.208398\n",
      "[114]\ttrain-logloss:0.200567\teval-logloss:0.208397\n",
      "[115]\ttrain-logloss:0.200509\teval-logloss:0.208398\n",
      "[116]\ttrain-logloss:0.200397\teval-logloss:0.208335\n",
      "[117]\ttrain-logloss:0.20034\teval-logloss:0.2083\n",
      "[118]\ttrain-logloss:0.200327\teval-logloss:0.208303\n",
      "[119]\ttrain-logloss:0.200277\teval-logloss:0.208299\n",
      "[120]\ttrain-logloss:0.200213\teval-logloss:0.208277\n",
      "[121]\ttrain-logloss:0.200124\teval-logloss:0.20826\n",
      "[122]\ttrain-logloss:0.200014\teval-logloss:0.208225\n",
      "[123]\ttrain-logloss:0.19989\teval-logloss:0.208203\n",
      "[124]\ttrain-logloss:0.199814\teval-logloss:0.208202\n",
      "[125]\ttrain-logloss:0.199733\teval-logloss:0.2082\n",
      "[126]\ttrain-logloss:0.199644\teval-logloss:0.208165\n",
      "[127]\ttrain-logloss:0.199573\teval-logloss:0.208163\n",
      "[128]\ttrain-logloss:0.199533\teval-logloss:0.208146\n",
      "[129]\ttrain-logloss:0.199481\teval-logloss:0.208165\n",
      "[130]\ttrain-logloss:0.199404\teval-logloss:0.208163\n",
      "[131]\ttrain-logloss:0.199392\teval-logloss:0.208163\n",
      "[132]\ttrain-logloss:0.199336\teval-logloss:0.208189\n",
      "[133]\ttrain-logloss:0.199264\teval-logloss:0.208161\n",
      "[134]\ttrain-logloss:0.199216\teval-logloss:0.20816\n",
      "[135]\ttrain-logloss:0.199115\teval-logloss:0.20816\n",
      "[136]\ttrain-logloss:0.199063\teval-logloss:0.208157\n",
      "[137]\ttrain-logloss:0.199009\teval-logloss:0.208173\n",
      "[138]\ttrain-logloss:0.198976\teval-logloss:0.208168\n",
      "[139]\ttrain-logloss:0.198925\teval-logloss:0.208176\n",
      "[140]\ttrain-logloss:0.198846\teval-logloss:0.208154\n",
      "[141]\ttrain-logloss:0.198827\teval-logloss:0.20816\n",
      "[142]\ttrain-logloss:0.198761\teval-logloss:0.208152\n",
      "[143]\ttrain-logloss:0.198738\teval-logloss:0.208155\n",
      "[144]\ttrain-logloss:0.198681\teval-logloss:0.208169\n",
      "[145]\ttrain-logloss:0.198606\teval-logloss:0.208167\n",
      "[146]\ttrain-logloss:0.198549\teval-logloss:0.208173\n",
      "[147]\ttrain-logloss:0.198527\teval-logloss:0.208179\n",
      "[148]\ttrain-logloss:0.198506\teval-logloss:0.208184\n",
      "Stopping. Best iteration:\n",
      "[128]\ttrain-logloss:0.199533\teval-logloss:0.208146\n",
      "\n",
      "logloss: 0.2082\n",
      "[0]\ttrain-logloss:0.500599\teval-logloss:0.50095\n",
      "Multiple eval metrics have been passed: 'eval-logloss' will be used for early stopping.\n",
      "\n",
      "Will train until eval-logloss hasn't improved in 20 rounds.\n",
      "[1]\ttrain-logloss:0.395871\teval-logloss:0.396458\n",
      "[2]\ttrain-logloss:0.33272\teval-logloss:0.333532\n",
      "[3]\ttrain-logloss:0.292883\teval-logloss:0.293909\n",
      "[4]\ttrain-logloss:0.267065\teval-logloss:0.268264\n",
      "[5]\ttrain-logloss:0.250231\teval-logloss:0.251581\n",
      "[6]\ttrain-logloss:0.239019\teval-logloss:0.240527\n",
      "[7]\ttrain-logloss:0.231506\teval-logloss:0.233163\n",
      "[8]\ttrain-logloss:0.225895\teval-logloss:0.227709\n",
      "[9]\ttrain-logloss:0.222189\teval-logloss:0.224199\n",
      "[10]\ttrain-logloss:0.219718\teval-logloss:0.221811\n",
      "[11]\ttrain-logloss:0.217561\teval-logloss:0.21973\n",
      "[12]\ttrain-logloss:0.216124\teval-logloss:0.218388\n",
      "[13]\ttrain-logloss:0.214948\teval-logloss:0.217343\n",
      "[14]\ttrain-logloss:0.214184\teval-logloss:0.216675\n",
      "[15]\ttrain-logloss:0.213448\teval-logloss:0.21602\n",
      "[16]\ttrain-logloss:0.212591\teval-logloss:0.215262\n",
      "[17]\ttrain-logloss:0.212093\teval-logloss:0.214875\n",
      "[18]\ttrain-logloss:0.211613\teval-logloss:0.214475\n",
      "[19]\ttrain-logloss:0.211252\teval-logloss:0.214198\n",
      "[20]\ttrain-logloss:0.210929\teval-logloss:0.21396\n",
      "[21]\ttrain-logloss:0.210588\teval-logloss:0.213715\n",
      "[22]\ttrain-logloss:0.210242\teval-logloss:0.213484\n",
      "[23]\ttrain-logloss:0.21001\teval-logloss:0.21335\n",
      "[24]\ttrain-logloss:0.209675\teval-logloss:0.213142\n",
      "[25]\ttrain-logloss:0.209476\teval-logloss:0.213005\n",
      "[26]\ttrain-logloss:0.20911\teval-logloss:0.212716\n",
      "[27]\ttrain-logloss:0.208881\teval-logloss:0.212555\n",
      "[28]\ttrain-logloss:0.208649\teval-logloss:0.212431\n",
      "[29]\ttrain-logloss:0.208429\teval-logloss:0.21234\n",
      "[30]\ttrain-logloss:0.208237\teval-logloss:0.212211\n",
      "[31]\ttrain-logloss:0.208021\teval-logloss:0.212108\n",
      "[32]\ttrain-logloss:0.207789\teval-logloss:0.211965\n",
      "[33]\ttrain-logloss:0.207697\teval-logloss:0.211927\n",
      "[34]\ttrain-logloss:0.20753\teval-logloss:0.211827\n",
      "[35]\ttrain-logloss:0.207412\teval-logloss:0.211794\n",
      "[36]\ttrain-logloss:0.207269\teval-logloss:0.211759\n",
      "[37]\ttrain-logloss:0.207113\teval-logloss:0.211698\n",
      "[38]\ttrain-logloss:0.206949\teval-logloss:0.211616\n",
      "[39]\ttrain-logloss:0.206771\teval-logloss:0.211506\n",
      "[40]\ttrain-logloss:0.206603\teval-logloss:0.211447\n",
      "[41]\ttrain-logloss:0.206564\teval-logloss:0.211442\n",
      "[42]\ttrain-logloss:0.2064\teval-logloss:0.211381\n",
      "[43]\ttrain-logloss:0.206238\teval-logloss:0.211322\n",
      "[44]\ttrain-logloss:0.20619\teval-logloss:0.211321\n",
      "[45]\ttrain-logloss:0.206099\teval-logloss:0.211305\n",
      "[46]\ttrain-logloss:0.205944\teval-logloss:0.211214\n",
      "[47]\ttrain-logloss:0.205804\teval-logloss:0.211146\n",
      "[48]\ttrain-logloss:0.205685\teval-logloss:0.211113\n",
      "[49]\ttrain-logloss:0.205557\teval-logloss:0.211035\n",
      "[50]\ttrain-logloss:0.20547\teval-logloss:0.211024\n",
      "[51]\ttrain-logloss:0.205418\teval-logloss:0.210995\n",
      "[52]\ttrain-logloss:0.20537\teval-logloss:0.210988\n",
      "[53]\ttrain-logloss:0.205197\teval-logloss:0.210891\n",
      "[54]\ttrain-logloss:0.204986\teval-logloss:0.210702\n",
      "[55]\ttrain-logloss:0.204898\teval-logloss:0.210697\n",
      "[56]\ttrain-logloss:0.204837\teval-logloss:0.21067\n",
      "[57]\ttrain-logloss:0.204735\teval-logloss:0.210651\n",
      "[58]\ttrain-logloss:0.204706\teval-logloss:0.21063\n",
      "[59]\ttrain-logloss:0.204589\teval-logloss:0.210612\n",
      "[60]\ttrain-logloss:0.204435\teval-logloss:0.210522\n",
      "[61]\ttrain-logloss:0.204355\teval-logloss:0.2105\n",
      "[62]\ttrain-logloss:0.204271\teval-logloss:0.210503\n",
      "[63]\ttrain-logloss:0.204212\teval-logloss:0.210481\n",
      "[64]\ttrain-logloss:0.204069\teval-logloss:0.210412\n",
      "[65]\ttrain-logloss:0.203989\teval-logloss:0.210387\n",
      "[66]\ttrain-logloss:0.20389\teval-logloss:0.210365\n",
      "[67]\ttrain-logloss:0.203801\teval-logloss:0.210354\n",
      "[68]\ttrain-logloss:0.203732\teval-logloss:0.210336\n",
      "[69]\ttrain-logloss:0.203624\teval-logloss:0.210311\n",
      "[70]\ttrain-logloss:0.203509\teval-logloss:0.210242\n",
      "[71]\ttrain-logloss:0.203466\teval-logloss:0.210218\n",
      "[72]\ttrain-logloss:0.203339\teval-logloss:0.210166\n",
      "[73]\ttrain-logloss:0.203223\teval-logloss:0.210114\n",
      "[74]\ttrain-logloss:0.203079\teval-logloss:0.210074\n",
      "[75]\ttrain-logloss:0.202963\teval-logloss:0.210049\n",
      "[76]\ttrain-logloss:0.202931\teval-logloss:0.210052\n",
      "[77]\ttrain-logloss:0.202829\teval-logloss:0.210021\n",
      "[78]\ttrain-logloss:0.202747\teval-logloss:0.210005\n",
      "[79]\ttrain-logloss:0.202682\teval-logloss:0.209995\n",
      "[80]\ttrain-logloss:0.202645\teval-logloss:0.209987\n",
      "[81]\ttrain-logloss:0.202621\teval-logloss:0.209987\n",
      "[82]\ttrain-logloss:0.202503\teval-logloss:0.209962\n",
      "[83]\ttrain-logloss:0.202492\teval-logloss:0.209966\n",
      "[84]\ttrain-logloss:0.202485\teval-logloss:0.209966\n",
      "[85]\ttrain-logloss:0.202451\teval-logloss:0.209958\n",
      "[86]\ttrain-logloss:0.202375\teval-logloss:0.209945\n",
      "[87]\ttrain-logloss:0.202301\teval-logloss:0.209912\n",
      "[88]\ttrain-logloss:0.202189\teval-logloss:0.209881\n",
      "[89]\ttrain-logloss:0.202117\teval-logloss:0.209869\n",
      "[90]\ttrain-logloss:0.202003\teval-logloss:0.209827\n",
      "[91]\ttrain-logloss:0.201935\teval-logloss:0.209819\n",
      "[92]\ttrain-logloss:0.201895\teval-logloss:0.209829\n",
      "[93]\ttrain-logloss:0.201882\teval-logloss:0.209829\n",
      "[94]\ttrain-logloss:0.201785\teval-logloss:0.209803\n",
      "[95]\ttrain-logloss:0.201685\teval-logloss:0.209764\n",
      "[96]\ttrain-logloss:0.201599\teval-logloss:0.209722\n"
     ]
    },
    {
     "name": "stdout",
     "output_type": "stream",
     "text": [
      "[97]\ttrain-logloss:0.201512\teval-logloss:0.20972\n",
      "[98]\ttrain-logloss:0.201448\teval-logloss:0.209724\n",
      "[99]\ttrain-logloss:0.201318\teval-logloss:0.209656\n",
      "[100]\ttrain-logloss:0.201277\teval-logloss:0.209663\n",
      "[101]\ttrain-logloss:0.201266\teval-logloss:0.209663\n",
      "[102]\ttrain-logloss:0.201164\teval-logloss:0.209647\n",
      "[103]\ttrain-logloss:0.201073\teval-logloss:0.209637\n",
      "[104]\ttrain-logloss:0.200983\teval-logloss:0.209638\n",
      "[105]\ttrain-logloss:0.200904\teval-logloss:0.209622\n",
      "[106]\ttrain-logloss:0.200804\teval-logloss:0.209626\n",
      "[107]\ttrain-logloss:0.200717\teval-logloss:0.209614\n",
      "[108]\ttrain-logloss:0.200646\teval-logloss:0.209605\n",
      "[109]\ttrain-logloss:0.200561\teval-logloss:0.209608\n",
      "[110]\ttrain-logloss:0.200476\teval-logloss:0.209601\n",
      "[111]\ttrain-logloss:0.200375\teval-logloss:0.209564\n",
      "[112]\ttrain-logloss:0.200294\teval-logloss:0.209571\n",
      "[113]\ttrain-logloss:0.200256\teval-logloss:0.209583\n",
      "[114]\ttrain-logloss:0.200251\teval-logloss:0.209583\n",
      "[115]\ttrain-logloss:0.200162\teval-logloss:0.209584\n",
      "[116]\ttrain-logloss:0.200097\teval-logloss:0.209595\n",
      "[117]\ttrain-logloss:0.200019\teval-logloss:0.209602\n",
      "[118]\ttrain-logloss:0.199955\teval-logloss:0.209604\n",
      "[119]\ttrain-logloss:0.199883\teval-logloss:0.209578\n",
      "[120]\ttrain-logloss:0.199824\teval-logloss:0.209567\n",
      "[121]\ttrain-logloss:0.199752\teval-logloss:0.209572\n",
      "[122]\ttrain-logloss:0.199749\teval-logloss:0.209569\n",
      "[123]\ttrain-logloss:0.199704\teval-logloss:0.20957\n",
      "[124]\ttrain-logloss:0.199695\teval-logloss:0.209573\n",
      "[125]\ttrain-logloss:0.199653\teval-logloss:0.209568\n",
      "[126]\ttrain-logloss:0.199607\teval-logloss:0.209571\n",
      "[127]\ttrain-logloss:0.19951\teval-logloss:0.209552\n",
      "[128]\ttrain-logloss:0.199463\teval-logloss:0.209557\n",
      "[129]\ttrain-logloss:0.199358\teval-logloss:0.209544\n",
      "[130]\ttrain-logloss:0.199275\teval-logloss:0.20956\n",
      "[131]\ttrain-logloss:0.199235\teval-logloss:0.209574\n",
      "[132]\ttrain-logloss:0.199203\teval-logloss:0.209575\n",
      "[133]\ttrain-logloss:0.199121\teval-logloss:0.209563\n",
      "[134]\ttrain-logloss:0.199057\teval-logloss:0.209574\n",
      "[135]\ttrain-logloss:0.198931\teval-logloss:0.209542\n",
      "[136]\ttrain-logloss:0.198868\teval-logloss:0.209544\n",
      "[137]\ttrain-logloss:0.198797\teval-logloss:0.209559\n",
      "[138]\ttrain-logloss:0.198792\teval-logloss:0.209558\n",
      "[139]\ttrain-logloss:0.198753\teval-logloss:0.209563\n",
      "[140]\ttrain-logloss:0.198688\teval-logloss:0.209568\n",
      "[141]\ttrain-logloss:0.19861\teval-logloss:0.209581\n",
      "[142]\ttrain-logloss:0.198576\teval-logloss:0.209578\n",
      "[143]\ttrain-logloss:0.198546\teval-logloss:0.20957\n",
      "[144]\ttrain-logloss:0.198435\teval-logloss:0.209557\n",
      "[145]\ttrain-logloss:0.198351\teval-logloss:0.209548\n",
      "[146]\ttrain-logloss:0.198273\teval-logloss:0.209546\n",
      "[147]\ttrain-logloss:0.198194\teval-logloss:0.20954\n",
      "[148]\ttrain-logloss:0.198115\teval-logloss:0.209515\n",
      "[149]\ttrain-logloss:0.198036\teval-logloss:0.209524\n",
      "[150]\ttrain-logloss:0.197971\teval-logloss:0.209518\n",
      "[151]\ttrain-logloss:0.197913\teval-logloss:0.209512\n",
      "[152]\ttrain-logloss:0.197852\teval-logloss:0.209517\n",
      "[153]\ttrain-logloss:0.197759\teval-logloss:0.209485\n",
      "[154]\ttrain-logloss:0.197695\teval-logloss:0.209473\n",
      "[155]\ttrain-logloss:0.197638\teval-logloss:0.209484\n",
      "[156]\ttrain-logloss:0.197542\teval-logloss:0.20948\n",
      "[157]\ttrain-logloss:0.197477\teval-logloss:0.209457\n",
      "[158]\ttrain-logloss:0.197387\teval-logloss:0.209436\n",
      "[159]\ttrain-logloss:0.197347\teval-logloss:0.20944\n",
      "[160]\ttrain-logloss:0.197319\teval-logloss:0.209436\n",
      "[161]\ttrain-logloss:0.197284\teval-logloss:0.209427\n",
      "[162]\ttrain-logloss:0.197282\teval-logloss:0.209428\n",
      "[163]\ttrain-logloss:0.197279\teval-logloss:0.209428\n",
      "[164]\ttrain-logloss:0.197238\teval-logloss:0.20944\n",
      "[165]\ttrain-logloss:0.197162\teval-logloss:0.209436\n",
      "[166]\ttrain-logloss:0.19711\teval-logloss:0.209436\n",
      "[167]\ttrain-logloss:0.197095\teval-logloss:0.20944\n",
      "[168]\ttrain-logloss:0.197014\teval-logloss:0.20943\n",
      "[169]\ttrain-logloss:0.196957\teval-logloss:0.209443\n",
      "[170]\ttrain-logloss:0.196892\teval-logloss:0.20944\n",
      "[171]\ttrain-logloss:0.19681\teval-logloss:0.209437\n",
      "[172]\ttrain-logloss:0.196732\teval-logloss:0.209421\n",
      "[173]\ttrain-logloss:0.196664\teval-logloss:0.20941\n",
      "[174]\ttrain-logloss:0.196656\teval-logloss:0.20941\n",
      "[175]\ttrain-logloss:0.196582\teval-logloss:0.209402\n",
      "[176]\ttrain-logloss:0.196534\teval-logloss:0.209396\n",
      "[177]\ttrain-logloss:0.196525\teval-logloss:0.209396\n",
      "[178]\ttrain-logloss:0.196477\teval-logloss:0.209393\n",
      "[179]\ttrain-logloss:0.196447\teval-logloss:0.20939\n",
      "[180]\ttrain-logloss:0.19638\teval-logloss:0.209404\n",
      "[181]\ttrain-logloss:0.196331\teval-logloss:0.209411\n",
      "[182]\ttrain-logloss:0.196246\teval-logloss:0.209393\n",
      "[183]\ttrain-logloss:0.196171\teval-logloss:0.209404\n",
      "[184]\ttrain-logloss:0.196105\teval-logloss:0.209411\n",
      "[185]\ttrain-logloss:0.196103\teval-logloss:0.209412\n",
      "[186]\ttrain-logloss:0.1961\teval-logloss:0.209411\n",
      "[187]\ttrain-logloss:0.196089\teval-logloss:0.209405\n",
      "[188]\ttrain-logloss:0.196053\teval-logloss:0.20941\n",
      "[189]\ttrain-logloss:0.195997\teval-logloss:0.209405\n",
      "[190]\ttrain-logloss:0.195921\teval-logloss:0.20942\n",
      "[191]\ttrain-logloss:0.195852\teval-logloss:0.209418\n",
      "[192]\ttrain-logloss:0.195778\teval-logloss:0.209402\n",
      "[193]\ttrain-logloss:0.19576\teval-logloss:0.209401\n",
      "[194]\ttrain-logloss:0.195759\teval-logloss:0.209403\n",
      "[195]\ttrain-logloss:0.195727\teval-logloss:0.209392\n",
      "[196]\ttrain-logloss:0.195697\teval-logloss:0.209401\n",
      "[197]\ttrain-logloss:0.195657\teval-logloss:0.209407\n",
      "[198]\ttrain-logloss:0.195643\teval-logloss:0.20941\n",
      "[199]\ttrain-logloss:0.195558\teval-logloss:0.20941\n",
      "Stopping. Best iteration:\n",
      "[179]\ttrain-logloss:0.196447\teval-logloss:0.20939\n",
      "\n",
      "logloss: 0.2094\n",
      "[0]\ttrain-logloss:0.500685\teval-logloss:0.500397\n",
      "Multiple eval metrics have been passed: 'eval-logloss' will be used for early stopping.\n",
      "\n",
      "Will train until eval-logloss hasn't improved in 20 rounds.\n",
      "[1]\ttrain-logloss:0.396125\teval-logloss:0.395644\n",
      "[2]\ttrain-logloss:0.333273\teval-logloss:0.332585\n",
      "[3]\ttrain-logloss:0.293451\teval-logloss:0.292654\n",
      "[4]\ttrain-logloss:0.26766\teval-logloss:0.266695\n",
      "[5]\ttrain-logloss:0.250775\teval-logloss:0.249735\n",
      "[6]\ttrain-logloss:0.239809\teval-logloss:0.238659\n",
      "[7]\ttrain-logloss:0.232229\teval-logloss:0.231063\n",
      "[8]\ttrain-logloss:0.226974\teval-logloss:0.225736\n",
      "[9]\ttrain-logloss:0.223265\teval-logloss:0.222001\n",
      "[10]\ttrain-logloss:0.220428\teval-logloss:0.219189\n",
      "[11]\ttrain-logloss:0.218849\teval-logloss:0.217616\n",
      "[12]\ttrain-logloss:0.217082\teval-logloss:0.215839\n",
      "[13]\ttrain-logloss:0.21586\teval-logloss:0.214683\n",
      "[14]\ttrain-logloss:0.215055\teval-logloss:0.213907\n",
      "[15]\ttrain-logloss:0.21416\teval-logloss:0.213075\n",
      "[16]\ttrain-logloss:0.213568\teval-logloss:0.212549\n",
      "[17]\ttrain-logloss:0.213053\teval-logloss:0.212055\n",
      "[18]\ttrain-logloss:0.212726\teval-logloss:0.211793\n",
      "[19]\ttrain-logloss:0.212342\teval-logloss:0.211487\n",
      "[20]\ttrain-logloss:0.212092\teval-logloss:0.211287\n",
      "[21]\ttrain-logloss:0.211735\teval-logloss:0.210979\n",
      "[22]\ttrain-logloss:0.211474\teval-logloss:0.210848\n",
      "[23]\ttrain-logloss:0.211167\teval-logloss:0.210587\n",
      "[24]\ttrain-logloss:0.210945\teval-logloss:0.210458\n",
      "[25]\ttrain-logloss:0.210592\teval-logloss:0.210186\n",
      "[26]\ttrain-logloss:0.210391\teval-logloss:0.21006\n",
      "[27]\ttrain-logloss:0.210071\teval-logloss:0.209798\n",
      "[28]\ttrain-logloss:0.209761\teval-logloss:0.209609\n",
      "[29]\ttrain-logloss:0.209659\teval-logloss:0.209575\n",
      "[30]\ttrain-logloss:0.209456\teval-logloss:0.209455\n",
      "[31]\ttrain-logloss:0.209319\teval-logloss:0.209393\n",
      "[32]\ttrain-logloss:0.209134\teval-logloss:0.209282\n",
      "[33]\ttrain-logloss:0.208836\teval-logloss:0.209096\n",
      "[34]\ttrain-logloss:0.208707\teval-logloss:0.209063\n",
      "[35]\ttrain-logloss:0.208438\teval-logloss:0.208849\n",
      "[36]\ttrain-logloss:0.208207\teval-logloss:0.208713\n",
      "[37]\ttrain-logloss:0.208117\teval-logloss:0.208675\n",
      "[38]\ttrain-logloss:0.20802\teval-logloss:0.208654\n",
      "[39]\ttrain-logloss:0.207854\teval-logloss:0.208588\n",
      "[40]\ttrain-logloss:0.207681\teval-logloss:0.208488\n",
      "[41]\ttrain-logloss:0.207571\teval-logloss:0.208434\n",
      "[42]\ttrain-logloss:0.207488\teval-logloss:0.20841\n",
      "[43]\ttrain-logloss:0.207345\teval-logloss:0.208352\n",
      "[44]\ttrain-logloss:0.20713\teval-logloss:0.208258\n",
      "[45]\ttrain-logloss:0.206997\teval-logloss:0.208203\n",
      "[46]\ttrain-logloss:0.206838\teval-logloss:0.208152\n",
      "[47]\ttrain-logloss:0.206719\teval-logloss:0.208112\n",
      "[48]\ttrain-logloss:0.206591\teval-logloss:0.208073\n",
      "[49]\ttrain-logloss:0.206487\teval-logloss:0.208008\n",
      "[50]\ttrain-logloss:0.206382\teval-logloss:0.207931\n",
      "[51]\ttrain-logloss:0.206214\teval-logloss:0.207829\n",
      "[52]\ttrain-logloss:0.206088\teval-logloss:0.20778\n",
      "[53]\ttrain-logloss:0.206029\teval-logloss:0.207775\n",
      "[54]\ttrain-logloss:0.205995\teval-logloss:0.207775\n"
     ]
    },
    {
     "name": "stdout",
     "output_type": "stream",
     "text": [
      "[55]\ttrain-logloss:0.205939\teval-logloss:0.207746\n",
      "[56]\ttrain-logloss:0.205742\teval-logloss:0.207618\n",
      "[57]\ttrain-logloss:0.205654\teval-logloss:0.207597\n",
      "[58]\ttrain-logloss:0.205535\teval-logloss:0.207576\n",
      "[59]\ttrain-logloss:0.205437\teval-logloss:0.207567\n",
      "[60]\ttrain-logloss:0.205394\teval-logloss:0.207553\n",
      "[61]\ttrain-logloss:0.205289\teval-logloss:0.20749\n",
      "[62]\ttrain-logloss:0.205192\teval-logloss:0.207467\n",
      "[63]\ttrain-logloss:0.205056\teval-logloss:0.207424\n",
      "[64]\ttrain-logloss:0.205008\teval-logloss:0.207417\n",
      "[65]\ttrain-logloss:0.204833\teval-logloss:0.207352\n",
      "[66]\ttrain-logloss:0.204724\teval-logloss:0.207342\n",
      "[67]\ttrain-logloss:0.204676\teval-logloss:0.20734\n",
      "[68]\ttrain-logloss:0.204629\teval-logloss:0.207345\n",
      "[69]\ttrain-logloss:0.204606\teval-logloss:0.207337\n",
      "[70]\ttrain-logloss:0.204502\teval-logloss:0.207324\n",
      "[71]\ttrain-logloss:0.20438\teval-logloss:0.207273\n",
      "[72]\ttrain-logloss:0.204325\teval-logloss:0.207276\n",
      "[73]\ttrain-logloss:0.204282\teval-logloss:0.207266\n",
      "[74]\ttrain-logloss:0.204269\teval-logloss:0.207262\n",
      "[75]\ttrain-logloss:0.204219\teval-logloss:0.207256\n",
      "[76]\ttrain-logloss:0.204117\teval-logloss:0.207252\n",
      "[77]\ttrain-logloss:0.203966\teval-logloss:0.207202\n",
      "[78]\ttrain-logloss:0.203855\teval-logloss:0.207174\n",
      "[79]\ttrain-logloss:0.203822\teval-logloss:0.207175\n",
      "[80]\ttrain-logloss:0.203728\teval-logloss:0.207162\n",
      "[81]\ttrain-logloss:0.203603\teval-logloss:0.207115\n",
      "[82]\ttrain-logloss:0.203486\teval-logloss:0.207079\n",
      "[83]\ttrain-logloss:0.20336\teval-logloss:0.207026\n",
      "[84]\ttrain-logloss:0.20325\teval-logloss:0.207023\n",
      "[85]\ttrain-logloss:0.203142\teval-logloss:0.207008\n",
      "[86]\ttrain-logloss:0.203028\teval-logloss:0.207\n",
      "[87]\ttrain-logloss:0.20296\teval-logloss:0.206997\n",
      "[88]\ttrain-logloss:0.20294\teval-logloss:0.207\n",
      "[89]\ttrain-logloss:0.20282\teval-logloss:0.206963\n",
      "[90]\ttrain-logloss:0.202729\teval-logloss:0.206958\n",
      "[91]\ttrain-logloss:0.202627\teval-logloss:0.206919\n",
      "[92]\ttrain-logloss:0.202527\teval-logloss:0.20689\n",
      "[93]\ttrain-logloss:0.202467\teval-logloss:0.206894\n",
      "[94]\ttrain-logloss:0.202376\teval-logloss:0.206883\n",
      "[95]\ttrain-logloss:0.202279\teval-logloss:0.206865\n",
      "[96]\ttrain-logloss:0.202153\teval-logloss:0.206812\n",
      "[97]\ttrain-logloss:0.202078\teval-logloss:0.206794\n",
      "[98]\ttrain-logloss:0.202037\teval-logloss:0.206787\n",
      "[99]\ttrain-logloss:0.201927\teval-logloss:0.206768\n",
      "[100]\ttrain-logloss:0.201842\teval-logloss:0.206744\n",
      "[101]\ttrain-logloss:0.201724\teval-logloss:0.206729\n",
      "[102]\ttrain-logloss:0.201628\teval-logloss:0.206684\n",
      "[103]\ttrain-logloss:0.201538\teval-logloss:0.206668\n",
      "[104]\ttrain-logloss:0.201509\teval-logloss:0.206669\n",
      "[105]\ttrain-logloss:0.2015\teval-logloss:0.206672\n",
      "[106]\ttrain-logloss:0.20141\teval-logloss:0.206661\n",
      "[107]\ttrain-logloss:0.201315\teval-logloss:0.206658\n",
      "[108]\ttrain-logloss:0.20129\teval-logloss:0.206647\n",
      "[109]\ttrain-logloss:0.201211\teval-logloss:0.206616\n",
      "[110]\ttrain-logloss:0.201155\teval-logloss:0.206615\n",
      "[111]\ttrain-logloss:0.201097\teval-logloss:0.206622\n",
      "[112]\ttrain-logloss:0.201087\teval-logloss:0.206626\n",
      "[113]\ttrain-logloss:0.20107\teval-logloss:0.206625\n",
      "[114]\ttrain-logloss:0.200961\teval-logloss:0.206583\n",
      "[115]\ttrain-logloss:0.200889\teval-logloss:0.206586\n",
      "[116]\ttrain-logloss:0.200878\teval-logloss:0.206588\n",
      "[117]\ttrain-logloss:0.200792\teval-logloss:0.206572\n",
      "[118]\ttrain-logloss:0.200754\teval-logloss:0.206563\n",
      "[119]\ttrain-logloss:0.200683\teval-logloss:0.206568\n",
      "[120]\ttrain-logloss:0.20066\teval-logloss:0.206569\n",
      "[121]\ttrain-logloss:0.200623\teval-logloss:0.206567\n",
      "[122]\ttrain-logloss:0.200531\teval-logloss:0.206515\n",
      "[123]\ttrain-logloss:0.20044\teval-logloss:0.206491\n",
      "[124]\ttrain-logloss:0.200375\teval-logloss:0.206486\n",
      "[125]\ttrain-logloss:0.200304\teval-logloss:0.206476\n",
      "[126]\ttrain-logloss:0.200295\teval-logloss:0.206473\n",
      "[127]\ttrain-logloss:0.200226\teval-logloss:0.206474\n",
      "[128]\ttrain-logloss:0.20014\teval-logloss:0.206493\n",
      "[129]\ttrain-logloss:0.200059\teval-logloss:0.206499\n",
      "[130]\ttrain-logloss:0.200013\teval-logloss:0.206499\n",
      "[131]\ttrain-logloss:0.199906\teval-logloss:0.206493\n",
      "[132]\ttrain-logloss:0.199814\teval-logloss:0.206486\n",
      "[133]\ttrain-logloss:0.199748\teval-logloss:0.20649\n",
      "[134]\ttrain-logloss:0.199725\teval-logloss:0.206491\n",
      "[135]\ttrain-logloss:0.199707\teval-logloss:0.206492\n",
      "[136]\ttrain-logloss:0.199698\teval-logloss:0.206492\n",
      "[137]\ttrain-logloss:0.19969\teval-logloss:0.206494\n",
      "[138]\ttrain-logloss:0.199649\teval-logloss:0.206495\n",
      "[139]\ttrain-logloss:0.199602\teval-logloss:0.206491\n",
      "[140]\ttrain-logloss:0.199569\teval-logloss:0.206494\n",
      "[141]\ttrain-logloss:0.19949\teval-logloss:0.206479\n",
      "[142]\ttrain-logloss:0.199403\teval-logloss:0.206486\n",
      "[143]\ttrain-logloss:0.199378\teval-logloss:0.206486\n",
      "[144]\ttrain-logloss:0.199281\teval-logloss:0.206464\n",
      "[145]\ttrain-logloss:0.199177\teval-logloss:0.206466\n",
      "[146]\ttrain-logloss:0.199104\teval-logloss:0.206468\n",
      "[147]\ttrain-logloss:0.199022\teval-logloss:0.206483\n",
      "[148]\ttrain-logloss:0.198951\teval-logloss:0.206506\n",
      "[149]\ttrain-logloss:0.198913\teval-logloss:0.206511\n",
      "[150]\ttrain-logloss:0.198844\teval-logloss:0.206502\n",
      "[151]\ttrain-logloss:0.198786\teval-logloss:0.206498\n",
      "[152]\ttrain-logloss:0.198686\teval-logloss:0.20649\n",
      "[153]\ttrain-logloss:0.198629\teval-logloss:0.206473\n",
      "[154]\ttrain-logloss:0.198554\teval-logloss:0.206467\n",
      "[155]\ttrain-logloss:0.198488\teval-logloss:0.206465\n",
      "[156]\ttrain-logloss:0.198387\teval-logloss:0.206451\n",
      "[157]\ttrain-logloss:0.198318\teval-logloss:0.206438\n",
      "[158]\ttrain-logloss:0.198278\teval-logloss:0.206442\n",
      "[159]\ttrain-logloss:0.198271\teval-logloss:0.206441\n",
      "[160]\ttrain-logloss:0.198259\teval-logloss:0.206443\n",
      "[161]\ttrain-logloss:0.198253\teval-logloss:0.20644\n",
      "[162]\ttrain-logloss:0.198202\teval-logloss:0.206445\n",
      "[163]\ttrain-logloss:0.198157\teval-logloss:0.206449\n",
      "[164]\ttrain-logloss:0.198062\teval-logloss:0.206426\n",
      "[165]\ttrain-logloss:0.197964\teval-logloss:0.206396\n",
      "[166]\ttrain-logloss:0.197867\teval-logloss:0.206385\n",
      "[167]\ttrain-logloss:0.197792\teval-logloss:0.206374\n",
      "[168]\ttrain-logloss:0.197779\teval-logloss:0.206376\n",
      "[169]\ttrain-logloss:0.197753\teval-logloss:0.206369\n",
      "[170]\ttrain-logloss:0.197681\teval-logloss:0.206361\n",
      "[171]\ttrain-logloss:0.197586\teval-logloss:0.206325\n",
      "[172]\ttrain-logloss:0.197572\teval-logloss:0.206331\n",
      "[173]\ttrain-logloss:0.197497\teval-logloss:0.206323\n",
      "[174]\ttrain-logloss:0.197402\teval-logloss:0.206303\n",
      "[175]\ttrain-logloss:0.197333\teval-logloss:0.206304\n",
      "[176]\ttrain-logloss:0.197305\teval-logloss:0.206301\n",
      "[177]\ttrain-logloss:0.197246\teval-logloss:0.206304\n",
      "[178]\ttrain-logloss:0.197168\teval-logloss:0.20632\n",
      "[179]\ttrain-logloss:0.197126\teval-logloss:0.206323\n",
      "[180]\ttrain-logloss:0.197069\teval-logloss:0.206336\n",
      "[181]\ttrain-logloss:0.196982\teval-logloss:0.206337\n",
      "[182]\ttrain-logloss:0.196914\teval-logloss:0.206342\n",
      "[183]\ttrain-logloss:0.196902\teval-logloss:0.206335\n",
      "[184]\ttrain-logloss:0.196865\teval-logloss:0.206335\n",
      "[185]\ttrain-logloss:0.196819\teval-logloss:0.206333\n",
      "[186]\ttrain-logloss:0.196744\teval-logloss:0.206344\n",
      "[187]\ttrain-logloss:0.196741\teval-logloss:0.206345\n",
      "[188]\ttrain-logloss:0.196673\teval-logloss:0.206337\n",
      "[189]\ttrain-logloss:0.196623\teval-logloss:0.206335\n",
      "[190]\ttrain-logloss:0.196565\teval-logloss:0.206342\n",
      "[191]\ttrain-logloss:0.196474\teval-logloss:0.206353\n",
      "[192]\ttrain-logloss:0.196403\teval-logloss:0.206347\n",
      "[193]\ttrain-logloss:0.196326\teval-logloss:0.206352\n",
      "[194]\ttrain-logloss:0.196268\teval-logloss:0.206356\n",
      "[195]\ttrain-logloss:0.196222\teval-logloss:0.206352\n",
      "[196]\ttrain-logloss:0.196218\teval-logloss:0.206348\n",
      "Stopping. Best iteration:\n",
      "[176]\ttrain-logloss:0.197305\teval-logloss:0.206301\n",
      "\n",
      "logloss: 0.2063\n"
     ]
    }
   ],
   "source": [
    "import xgboost as xgb\n",
    "from sklearn.metrics import log_loss\n",
    "\n",
    "cat_cols=['I3','I4']\n",
    "train_x, test_x = load_data()\n",
    "from sklearn.model_selection import KFold\n",
    "\n",
    "#乱数10固定\n",
    "kf=KFold(n_splits=4, shuffle=True, random_state=10)\n",
    "\n",
    "for i, (tr_idx, va_idx) in enumerate(kf.split(train_x)):\n",
    "    #学習データからバリデーションデータを分ける\n",
    "    tr_x, va_x=train_x.iloc[tr_idx].copy(), train_x.iloc[va_idx].copy()\n",
    "    tr_y, va_y=train_y.iloc[tr_idx], train_y.iloc[va_idx]\n",
    "    \n",
    "    for c in cat_cols:\n",
    "        data_tmp=pd.DataFrame({c: tr_x[c], 'target':tr_y})\n",
    "        target_mean =data_tmp.groupby(c)['target'].mean()\n",
    "        #バリデーションデータに平均を代入\n",
    "        va_x.loc[:, c] = va_x[c].map(target_mean)\n",
    "        \n",
    "        tmp=np.repeat(np.nan, tr_x.shape[0])\n",
    "        kf_encoding=KFold(n_splits=4, shuffle=True, random_state=11)\n",
    "        for idx_1, idx_2 in kf_encoding.split(tr_x):\n",
    "            target_mean = data_tmp.iloc[idx_1].groupby(c)['target'].mean()\n",
    "            tmp[idx_2] = tr_x[c].iloc[idx_2].map(target_mean)\n",
    "        \n",
    "        tr_x.loc[:, c] = tmp\n",
    "    \n",
    "    #xgb学習\n",
    "    dtrain=xgb.DMatrix(tr_x, label=tr_y)\n",
    "    dvalid=xgb.DMatrix(va_x, label=va_y)\n",
    "    params = {'objective': 'binary:logistic', 'silent': 1, 'random_state': 71,\n",
    "          'eval_metric': 'logloss'}\n",
    "    num_round = 500\n",
    "    watchlist = [(dtrain, 'train'), (dvalid, 'eval')]\n",
    "    model = xgb.train(params, dtrain, num_round, evals=watchlist,\n",
    "                  early_stopping_rounds=20)\n",
    "    va_pred = model.predict(dvalid)\n",
    "    score = log_loss(va_y, va_pred)\n",
    "    print(f'logloss: {score:.4f}')"
   ]
  },
  {
   "cell_type": "code",
   "execution_count": null,
   "metadata": {},
   "outputs": [],
   "source": [
    "#0.2094,0.28146,0.20939,0.2063\n",
    "#target encoding 悪くないが良くもない\n",
    "#xgbとRFはI3,I4のままの方が良い。NNのみtarget encoding"
   ]
  },
  {
   "cell_type": "code",
   "execution_count": 229,
   "metadata": {},
   "outputs": [],
   "source": [
    "train_x, test_x = load_data()\n",
    "from sklearn.model_selection import KFold\n",
    "\n",
    "# 変数をループしてtarget encoding\n",
    "for c in cat_cols:\n",
    "    # 学習データ全体で各カテゴリにおけるtargetの平均を計算\n",
    "    data_tmp = pd.DataFrame({c: train_x[c], 'target': train_y})\n",
    "    target_mean = data_tmp.groupby(c)['target'].mean()\n",
    "    # テストデータのカテゴリを置換\n",
    "    test_x[c] = test_x[c].map(target_mean)\n",
    "\n",
    "    # 学習データの変換後の値を格納する配列を準備\n",
    "    tmp = np.repeat(np.nan, train_x.shape[0])\n",
    "\n",
    "    # 学習データを分割\n",
    "    kf = KFold(n_splits=4, shuffle=True, random_state=72)\n",
    "    for idx_1, idx_2 in kf.split(train_x):\n",
    "        # out-of-foldで各カテゴリにおける目的変数の平均を計算\n",
    "        target_mean = data_tmp.iloc[idx_1].groupby(c)['target'].mean()\n",
    "        # 変換後の値を一時配列に格納\n",
    "        tmp[idx_2] = train_x[c].iloc[idx_2].map(target_mean)\n",
    "\n",
    "    # 変換後のデータで元の変数を置換\n",
    "    train_x[c] = tmp"
   ]
  },
  {
   "cell_type": "code",
   "execution_count": 60,
   "metadata": {},
   "outputs": [
    {
     "data": {
      "text/plain": [
       "(array([8.6488e+04, 5.8800e+02, 2.7300e+02, 1.4200e+02, 3.5000e+01]),\n",
       " array([  0.,  20.,  40.,  60.,  80., 100.]),\n",
       " <a list of 5 Patch objects>)"
      ]
     },
     "execution_count": 60,
     "metadata": {},
     "output_type": "execute_result"
    },
    {
     "data": {
      "image/png": "[encoded data removed]",
      "text/plain": [
       "<Figure size 432x288 with 1 Axes>"
      ]
     },
     "metadata": {
      "needs_background": "light"
     },
     "output_type": "display_data"
    }
   ],
   "source": [
    "plt.hist(y_I5, bins=5, range=(0,100))"
   ]
  },
  {
   "cell_type": "code",
   "execution_count": 94,
   "metadata": {},
   "outputs": [],
   "source": [
    "y_I11=yes['I11']\n",
    "y_I12=yes['I12']\n",
    "y_I13=yes['I13']\n",
    "y_I14=yes['I14']\n",
    "n_I11=no['I11']\n",
    "n_I12=no['I12']\n",
    "n_I13=no['I13']\n",
    "n_I14=no['I14']"
   ]
  },
  {
   "cell_type": "code",
   "execution_count": 230,
   "metadata": {},
   "outputs": [],
   "source": [
    "cat_cols_C=['C1','C2','C3','C4','C5','C6']\n",
    "from sklearn.preprocessing import StandardScaler\n",
    "\n",
    "# 学習データに基づいて複数列の標準化を定義\n",
    "scaler = StandardScaler()\n",
    "scaler.fit(train_x[cat_cols_C])\n",
    "\n",
    "# 変換後のデータで各列を置換\n",
    "train_x[cat_cols_C] = scaler.transform(train_x[cat_cols_C])\n",
    "test_x[cat_cols_C] = scaler.transform(test_x[cat_cols_C])"
   ]
  },
  {
   "cell_type": "code",
   "execution_count": 174,
   "metadata": {},
   "outputs": [
    {
     "data": {
      "text/plain": [
       "(array([27143.,  9662.,  5778.,  4131.,  2905.,  2323.,  1848.,  1618.,\n",
       "         1357.,  1362.]),\n",
       " array([ 0.,  5., 10., 15., 20., 25., 30., 35., 40., 45., 50.]),\n",
       " <a list of 10 Patch objects>)"
      ]
     },
     "execution_count": 174,
     "metadata": {},
     "output_type": "execute_result"
    },
    {
     "data": {
      "image/png": "[encoded data removed]",
      "text/plain": [
       "<Figure size 432x288 with 1 Axes>"
      ]
     },
     "metadata": {
      "needs_background": "light"
     },
     "output_type": "display_data"
    }
   ],
   "source": [
    "plt.hist(y_I11,range=(0,50))"
   ]
  },
  {
   "cell_type": "code",
   "execution_count": 173,
   "metadata": {},
   "outputs": [
    {
     "data": {
      "text/plain": [
       "(array([227863., 100461.,  66021.,  49898.,  37447.,  31120.,  26188.,\n",
       "         22360.,  18765.,  20070.]),\n",
       " array([ 0.,  5., 10., 15., 20., 25., 30., 35., 40., 45., 50.]),\n",
       " <a list of 10 Patch objects>)"
      ]
     },
     "execution_count": 173,
     "metadata": {},
     "output_type": "execute_result"
    },
    {
     "data": {
      "image/png": "[encoded data removed]",
      "text/plain": [
       "<Figure size 432x288 with 1 Axes>"
      ]
     },
     "metadata": {
      "needs_background": "light"
     },
     "output_type": "display_data"
    }
   ],
   "source": [
    "plt.hist(n_I11,range=(0,50))"
   ]
  },
  {
   "cell_type": "code",
   "execution_count": 253,
   "metadata": {},
   "outputs": [],
   "source": [
    "num_cols=['I11','I12','I13','I14']"
   ]
  },
  {
   "cell_type": "code",
   "execution_count": 278,
   "metadata": {},
   "outputs": [
    {
     "data": {
      "text/plain": [
       "(array([899395.,  31917.,  13628.,   8090.,   4854.,   3336.,   2586.,\n",
       "          1863.,   1537.,   1338.]),\n",
       " array([   0.,  500., 1000., 1500., 2000., 2500., 3000., 3500., 4000.,\n",
       "        4500., 5000.]),\n",
       " <a list of 10 Patch objects>)"
      ]
     },
     "execution_count": 278,
     "metadata": {},
     "output_type": "execute_result"
    },
    {
     "data": {
      "image/png": "[encoded data removed]",
      "text/plain": [
       "<Figure size 432x288 with 1 Axes>"
      ]
     },
     "metadata": {
      "needs_background": "light"
     },
     "output_type": "display_data"
    }
   ],
   "source": [
    "plt.hist(train_x['I11'],range=(0,5000))"
   ]
  },
  {
   "cell_type": "code",
   "execution_count": 286,
   "metadata": {},
   "outputs": [],
   "source": [
    "train_x[\"I11\"].fillna(train_x.I11.median(), inplace=True)\n",
    "train_x[\"I12\"].fillna(train_x.I12.median(), inplace=True)\n",
    "train_x[\"I13\"].fillna(train_x.I13.median(), inplace=True)\n",
    "train_x[\"I14\"].fillna(train_x.I14.median(), inplace=True)"
   ]
  },
  {
   "cell_type": "code",
   "execution_count": 292,
   "metadata": {},
   "outputs": [],
   "source": [
    "test_x[\"I11\"].fillna(train_x.I11.median(), inplace=True)\n",
    "test_x[\"I12\"].fillna(train_x.I12.median(), inplace=True)\n",
    "test_x[\"I13\"].fillna(train_x.I13.median(), inplace=True)\n",
    "test_x[\"I14\"].fillna(train_x.I14.median(), inplace=True)"
   ]
  },
  {
   "cell_type": "code",
   "execution_count": 293,
   "metadata": {},
   "outputs": [],
   "source": [
    "# 学習データに基づいて複数列の標準化を定義\n",
    "scaler2 = StandardScaler()\n",
    "scaler2.fit(train_x[num_cols])\n",
    "\n",
    "# 変換後のデータで各列を置換\n",
    "train_x[num_cols] = scaler2.transform(train_x[num_cols])\n",
    "test_x[num_cols] = scaler2.transform(test_x[num_cols])"
   ]
  },
  {
   "cell_type": "code",
   "execution_count": 297,
   "metadata": {},
   "outputs": [
    {
     "name": "stderr",
     "output_type": "stream",
     "text": [
      "Using TensorFlow backend.\n"
     ]
    }
   ],
   "source": [
    "from models import Model1Xgb, Model1NN, Model2Linear\n",
    "\n",
    "#stacking\n",
    "# 学習データに対する「目的変数を知らない」予測値と、テストデータに対する予測値を返す関数\n",
    "def predict_cv(model, train_x, train_y, test_x):\n",
    "    preds = []\n",
    "    preds_test = []\n",
    "    va_idxes = []\n",
    "\n",
    "    kf = KFold(n_splits=4, shuffle=True, random_state=71)\n",
    "\n",
    "    # クロスバリデーションで学習・予測を行い、予測値とインデックスを保存する\n",
    "    for i, (tr_idx, va_idx) in enumerate(kf.split(train_x)):\n",
    "        tr_x, va_x = train_x.iloc[tr_idx], train_x.iloc[va_idx]\n",
    "        tr_y, va_y = train_y.iloc[tr_idx], train_y.iloc[va_idx]\n",
    "        model.fit(tr_x, tr_y, va_x, va_y)\n",
    "        pred = model.predict(va_x)\n",
    "        preds.append(pred)\n",
    "        pred_test = model.predict(test_x)\n",
    "        preds_test.append(pred_test)\n",
    "        va_idxes.append(va_idx)\n",
    "\n",
    "    # バリデーションデータに対する予測値を連結し、その後元の順序に並べ直す\n",
    "    va_idxes = np.concatenate(va_idxes)\n",
    "    preds = np.concatenate(preds, axis=0)\n",
    "    # 昇順に並べ、インデックスを格納\n",
    "    order = np.argsort(va_idxes)\n",
    "    # 元のデータ0,1,2,3....の並び順に予測値を並び替え\n",
    "    pred_train = preds[order]\n",
    "\n",
    "    # テストデータに対する予測値の平均をとる\n",
    "    preds_test = np.mean(preds_test, axis=0)\n",
    "\n",
    "    return pred_train, preds_test"
   ]
  },
  {
   "cell_type": "code",
   "execution_count": 298,
   "metadata": {},
   "outputs": [
    {
     "name": "stdout",
     "output_type": "stream",
     "text": [
      "Train on 876781 samples, validate on 292261 samples\n",
      "Epoch 1/10\n",
      "876781/876781 [==============================] - 48s 55us/step - loss: 0.2291 - val_loss: 0.2220\n",
      "Epoch 2/10\n",
      "876781/876781 [==============================] - 45s 52us/step - loss: 0.2232 - val_loss: 0.2190\n",
      "Epoch 3/10\n",
      "876781/876781 [==============================] - 44s 50us/step - loss: 0.2213 - val_loss: 0.2185\n",
      "Epoch 4/10\n",
      "876781/876781 [==============================] - 45s 52us/step - loss: 0.2204 - val_loss: 0.2184\n",
      "Epoch 5/10\n",
      "876781/876781 [==============================] - 46s 53us/step - loss: 0.2194 - val_loss: 0.2166\n",
      "Epoch 6/10\n",
      "876781/876781 [==============================] - 40s 46us/step - loss: 0.2189 - val_loss: 0.2172\n",
      "Epoch 7/10\n",
      "876781/876781 [==============================] - 47s 53us/step - loss: 0.2185 - val_loss: 0.2157\n",
      "Epoch 8/10\n",
      "876781/876781 [==============================] - 55s 63us/step - loss: 0.2180 - val_loss: 0.2153\n",
      "Epoch 9/10\n",
      "876781/876781 [==============================] - 53s 60us/step - loss: 0.2178 - val_loss: 0.2163\n",
      "Epoch 10/10\n",
      "876781/876781 [==============================] - 47s 54us/step - loss: 0.2173 - val_loss: 0.2151\n",
      "Train on 876781 samples, validate on 292261 samples\n",
      "Epoch 1/10\n",
      "876781/876781 [==============================] - 50s 57us/step - loss: 0.2282 - val_loss: 0.2238\n",
      "Epoch 2/10\n",
      "876781/876781 [==============================] - 48s 55us/step - loss: 0.2225 - val_loss: 0.2230\n",
      "Epoch 3/10\n",
      "876781/876781 [==============================] - 47s 54us/step - loss: 0.2208 - val_loss: 0.2201\n",
      "Epoch 4/10\n",
      "876781/876781 [==============================] - 45s 51us/step - loss: 0.2196 - val_loss: 0.2195\n",
      "Epoch 5/10\n",
      "876781/876781 [==============================] - 45s 52us/step - loss: 0.2188 - val_loss: 0.2182\n",
      "Epoch 6/10\n",
      "876781/876781 [==============================] - 43s 49us/step - loss: 0.2183 - val_loss: 0.2180\n",
      "Epoch 7/10\n",
      "876781/876781 [==============================] - 40s 46us/step - loss: 0.2177 - val_loss: 0.2172\n",
      "Epoch 8/10\n",
      "876781/876781 [==============================] - 40s 45us/step - loss: 0.2173 - val_loss: 0.2182\n",
      "Epoch 9/10\n",
      "876781/876781 [==============================] - 46s 52us/step - loss: 0.2169 - val_loss: 0.2172\n",
      "Epoch 10/10\n",
      "876781/876781 [==============================] - 45s 52us/step - loss: 0.2168 - val_loss: 0.2172\n",
      "Train on 876782 samples, validate on 292260 samples\n",
      "Epoch 1/10\n",
      "876782/876782 [==============================] - 51s 59us/step - loss: 0.2289 - val_loss: 0.2215\n",
      "Epoch 2/10\n",
      "876782/876782 [==============================] - 49s 56us/step - loss: 0.2229 - val_loss: 0.2202\n",
      "Epoch 3/10\n",
      "876782/876782 [==============================] - 51s 58us/step - loss: 0.2210 - val_loss: 0.2190\n",
      "Epoch 4/10\n",
      "876782/876782 [==============================] - 54s 61us/step - loss: 0.2199 - val_loss: 0.2187\n",
      "Epoch 5/10\n",
      "876782/876782 [==============================] - 55s 62us/step - loss: 0.2191 - val_loss: 0.2185\n",
      "Epoch 6/10\n",
      "876782/876782 [==============================] - 57s 64us/step - loss: 0.2186 - val_loss: 0.2172\n",
      "Epoch 7/10\n",
      "876782/876782 [==============================] - 59s 68us/step - loss: 0.2180 - val_loss: 0.2168\n",
      "Epoch 8/10\n",
      "876782/876782 [==============================] - 55s 63us/step - loss: 0.2177 - val_loss: 0.2166\n",
      "Epoch 9/10\n",
      "876782/876782 [==============================] - 48s 55us/step - loss: 0.2173 - val_loss: 0.2177\n",
      "Epoch 10/10\n",
      "876782/876782 [==============================] - 42s 48us/step - loss: 0.2171 - val_loss: 0.2174\n",
      "Train on 876782 samples, validate on 292260 samples\n",
      "Epoch 1/10\n",
      "876782/876782 [==============================] - 48s 55us/step - loss: 0.2292 - val_loss: 0.2227\n",
      "Epoch 2/10\n",
      "876782/876782 [==============================] - 62s 70us/step - loss: 0.2232 - val_loss: 0.2202\n",
      "Epoch 3/10\n",
      "876782/876782 [==============================] - 60s 68us/step - loss: 0.2216 - val_loss: 0.2187\n",
      "Epoch 4/10\n",
      "876782/876782 [==============================] - 54s 62us/step - loss: 0.2206 - val_loss: 0.2167\n",
      "Epoch 5/10\n",
      "876782/876782 [==============================] - 54s 62us/step - loss: 0.2197 - val_loss: 0.2165\n",
      "Epoch 6/10\n",
      "876782/876782 [==============================] - 52s 59us/step - loss: 0.2190 - val_loss: 0.2152\n",
      "Epoch 7/10\n",
      "876782/876782 [==============================] - 52s 59us/step - loss: 0.2188 - val_loss: 0.2158\n",
      "Epoch 8/10\n",
      "876782/876782 [==============================] - 52s 60us/step - loss: 0.2183 - val_loss: 0.2148\n",
      "Epoch 9/10\n",
      "876782/876782 [==============================] - 54s 62us/step - loss: 0.2180 - val_loss: 0.2159\n",
      "Epoch 10/10\n",
      "876782/876782 [==============================] - 51s 58us/step - loss: 0.2177 - val_loss: 0.2153\n"
     ]
    }
   ],
   "source": [
    "model_1b = Model1NN()\n",
    "pred_train_1b, pred_test_1b = predict_cv(model_1b, train_x, train_y, test_x)"
   ]
  },
  {
   "cell_type": "code",
   "execution_count": 299,
   "metadata": {},
   "outputs": [],
   "source": [
    "train_x, test_x = load_data()"
   ]
  },
  {
   "cell_type": "code",
   "execution_count": 301,
   "metadata": {},
   "outputs": [
    {
     "name": "stdout",
     "output_type": "stream",
     "text": [
      "[0]\ttrain-logloss:0.500598\teval-logloss:0.500473\n",
      "[1]\ttrain-logloss:0.396005\teval-logloss:0.395786\n",
      "[2]\ttrain-logloss:0.333066\teval-logloss:0.332774\n",
      "[3]\ttrain-logloss:0.293227\teval-logloss:0.292919\n",
      "[4]\ttrain-logloss:0.267313\teval-logloss:0.267041\n",
      "[5]\ttrain-logloss:0.25026\teval-logloss:0.250061\n",
      "[6]\ttrain-logloss:0.239222\teval-logloss:0.239115\n",
      "[7]\ttrain-logloss:0.231704\teval-logloss:0.231621\n",
      "[8]\ttrain-logloss:0.226635\teval-logloss:0.226595\n",
      "[9]\ttrain-logloss:0.222689\teval-logloss:0.222669\n",
      "[0]\ttrain-logloss:0.500403\teval-logloss:0.500925\n",
      "[1]\ttrain-logloss:0.395564\teval-logloss:0.396407\n",
      "[2]\ttrain-logloss:0.332691\teval-logloss:0.333794\n",
      "[3]\ttrain-logloss:0.292698\teval-logloss:0.294089\n",
      "[4]\ttrain-logloss:0.267267\teval-logloss:0.268831\n",
      "[5]\ttrain-logloss:0.250353\teval-logloss:0.252142\n",
      "[6]\ttrain-logloss:0.238991\teval-logloss:0.240886\n",
      "[7]\ttrain-logloss:0.231351\teval-logloss:0.233411\n",
      "[8]\ttrain-logloss:0.226331\teval-logloss:0.22847\n",
      "[9]\ttrain-logloss:0.222302\teval-logloss:0.224515\n",
      "[0]\ttrain-logloss:0.500557\teval-logloss:0.500656\n",
      "[1]\ttrain-logloss:0.395841\teval-logloss:0.396096\n",
      "[2]\ttrain-logloss:0.332898\teval-logloss:0.333286\n",
      "[3]\ttrain-logloss:0.293039\teval-logloss:0.293557\n",
      "[4]\ttrain-logloss:0.267246\teval-logloss:0.267781\n",
      "[5]\ttrain-logloss:0.250552\teval-logloss:0.251259\n",
      "[6]\ttrain-logloss:0.239427\teval-logloss:0.240185\n",
      "[7]\ttrain-logloss:0.232066\teval-logloss:0.232948\n",
      "[8]\ttrain-logloss:0.226729\teval-logloss:0.227705\n",
      "[9]\ttrain-logloss:0.222732\teval-logloss:0.223763\n",
      "[0]\ttrain-logloss:0.500723\teval-logloss:0.500626\n",
      "[1]\ttrain-logloss:0.39608\teval-logloss:0.395923\n",
      "[2]\ttrain-logloss:0.333228\teval-logloss:0.332987\n",
      "[3]\ttrain-logloss:0.293516\teval-logloss:0.293166\n",
      "[4]\ttrain-logloss:0.268118\teval-logloss:0.26777\n",
      "[5]\ttrain-logloss:0.251167\teval-logloss:0.250753\n",
      "[6]\ttrain-logloss:0.239816\teval-logloss:0.239355\n",
      "[7]\ttrain-logloss:0.232297\teval-logloss:0.231822\n",
      "[8]\ttrain-logloss:0.226721\teval-logloss:0.226168\n",
      "[9]\ttrain-logloss:0.223236\teval-logloss:0.222651\n"
     ]
    }
   ],
   "source": [
    "model_1a = Model1Xgb()\n",
    "pred_train_1a, pred_test_1a = predict_cv(model_1a, train_x, train_y, test_x)"
   ]
  },
  {
   "cell_type": "code",
   "execution_count": 302,
   "metadata": {},
   "outputs": [
    {
     "name": "stdout",
     "output_type": "stream",
     "text": [
      "logloss: 0.2234\n",
      "logloss: 0.2163\n"
     ]
    }
   ],
   "source": [
    "#xgb\n",
    "print(f'logloss: {log_loss(train_y, pred_train_1a, eps=1e-7):.4f}')\n",
    "#nn\n",
    "print(f'logloss: {log_loss(train_y, pred_train_1b, eps=1e-7):.4f}')"
   ]
  },
  {
   "cell_type": "code",
   "execution_count": 303,
   "metadata": {},
   "outputs": [],
   "source": [
    "train_x_2 = pd.DataFrame({'pred_1a': pred_train_1a, 'pred_1b': pred_train_1b})\n",
    "test_x_2 = pd.DataFrame({'pred_1a': pred_test_1a, 'pred_1b': pred_test_1b})"
   ]
  },
  {
   "cell_type": "code",
   "execution_count": 305,
   "metadata": {},
   "outputs": [
    {
     "data": {
      "text/html": [
       "<div>\n",
       "<style scoped>\n",
       "    .dataframe tbody tr th:only-of-type {\n",
       "        vertical-align: middle;\n",
       "    }\n",
       "\n",
       "    .dataframe tbody tr th {\n",
       "        vertical-align: top;\n",
       "    }\n",
       "\n",
       "    .dataframe thead th {\n",
       "        text-align: right;\n",
       "    }\n",
       "</style>\n",
       "<table border=\"1\" class=\"dataframe\">\n",
       "  <thead>\n",
       "    <tr style=\"text-align: right;\">\n",
       "      <th></th>\n",
       "      <th>pred_1a</th>\n",
       "      <th>pred_1b</th>\n",
       "    </tr>\n",
       "  </thead>\n",
       "  <tbody>\n",
       "    <tr>\n",
       "      <th>0</th>\n",
       "      <td>0.203645</td>\n",
       "      <td>0.285235</td>\n",
       "    </tr>\n",
       "    <tr>\n",
       "      <th>1</th>\n",
       "      <td>0.097898</td>\n",
       "      <td>0.106969</td>\n",
       "    </tr>\n",
       "    <tr>\n",
       "      <th>2</th>\n",
       "      <td>0.042639</td>\n",
       "      <td>0.020729</td>\n",
       "    </tr>\n",
       "    <tr>\n",
       "      <th>3</th>\n",
       "      <td>0.116502</td>\n",
       "      <td>0.119637</td>\n",
       "    </tr>\n",
       "    <tr>\n",
       "      <th>4</th>\n",
       "      <td>0.144528</td>\n",
       "      <td>0.150928</td>\n",
       "    </tr>\n",
       "  </tbody>\n",
       "</table>\n",
       "</div>"
      ],
      "text/plain": [
       "    pred_1a   pred_1b\n",
       "0  0.203645  0.285235\n",
       "1  0.097898  0.106969\n",
       "2  0.042639  0.020729\n",
       "3  0.116502  0.119637\n",
       "4  0.144528  0.150928"
      ]
     },
     "execution_count": 305,
     "metadata": {},
     "output_type": "execute_result"
    }
   ],
   "source": [
    "train_x_2.head()"
   ]
  },
  {
   "cell_type": "code",
   "execution_count": 306,
   "metadata": {},
   "outputs": [
    {
     "name": "stdout",
     "output_type": "stream",
     "text": [
      "logloss: 0.2228\n"
     ]
    }
   ],
   "source": [
    "model_2 = Model2Linear()\n",
    "pred_train_2, pred_test_2 = predict_cv(model_2, train_x_2, train_y, test_x_2)\n",
    "# pred_train_2トレーニングデータのvalの予測値\n",
    "print(f'logloss: {log_loss(train_y, pred_train_2, eps=1e-7):.4f}')"
   ]
  },
  {
   "cell_type": "code",
   "execution_count": 307,
   "metadata": {},
   "outputs": [
    {
     "data": {
      "text/plain": [
       "array([0.09087201, 0.05178191, 0.05947241, ..., 0.0669737 , 0.03461151,\n",
       "       0.04775942])"
      ]
     },
     "execution_count": 307,
     "metadata": {},
     "output_type": "execute_result"
    }
   ],
   "source": [
    "pred_test_2"
   ]
  },
  {
   "cell_type": "code",
   "execution_count": 310,
   "metadata": {},
   "outputs": [],
   "source": [
    "df_csv = pd.read_csv('sample_submit.csv',header=None)"
   ]
  },
  {
   "cell_type": "code",
   "execution_count": 321,
   "metadata": {},
   "outputs": [],
   "source": [
    "#提出用DataFrame作成\n",
    "df=df_csv.drop([1],axis=1)\n",
    "df_num=df.values\n",
    "df_num_1=df_num.flatten()\n",
    "df_result=pd.DataFrame({0:df_num_1,1:pred_test_2})"
   ]
  },
  {
   "cell_type": "code",
   "execution_count": 343,
   "metadata": {},
   "outputs": [],
   "source": [
    "#csvファイル書き出し\n",
    "df_result.to_csv(\"sample_submit.csv\",index=False,header=False)"
   ]
  },
  {
   "cell_type": "code",
   "execution_count": 336,
   "metadata": {},
   "outputs": [
    {
     "data": {
      "text/html": [
       "<div>\n",
       "<style scoped>\n",
       "    .dataframe tbody tr th:only-of-type {\n",
       "        vertical-align: middle;\n",
       "    }\n",
       "\n",
       "    .dataframe tbody tr th {\n",
       "        vertical-align: top;\n",
       "    }\n",
       "\n",
       "    .dataframe thead th {\n",
       "        text-align: right;\n",
       "    }\n",
       "</style>\n",
       "<table border=\"1\" class=\"dataframe\">\n",
       "  <thead>\n",
       "    <tr style=\"text-align: right;\">\n",
       "      <th></th>\n",
       "      <th>0</th>\n",
       "      <th>1</th>\n",
       "    </tr>\n",
       "  </thead>\n",
       "  <tbody>\n",
       "    <tr>\n",
       "      <th>0</th>\n",
       "      <td>1169042</td>\n",
       "      <td>0.335178</td>\n",
       "    </tr>\n",
       "    <tr>\n",
       "      <th>1</th>\n",
       "      <td>1169043</td>\n",
       "      <td>0.688459</td>\n",
       "    </tr>\n",
       "    <tr>\n",
       "      <th>2</th>\n",
       "      <td>1169044</td>\n",
       "      <td>0.768471</td>\n",
       "    </tr>\n",
       "    <tr>\n",
       "      <th>3</th>\n",
       "      <td>1169045</td>\n",
       "      <td>0.251175</td>\n",
       "    </tr>\n",
       "    <tr>\n",
       "      <th>4</th>\n",
       "      <td>1169046</td>\n",
       "      <td>0.464559</td>\n",
       "    </tr>\n",
       "  </tbody>\n",
       "</table>\n",
       "</div>"
      ],
      "text/plain": [
       "         0         1\n",
       "0  1169042  0.335178\n",
       "1  1169043  0.688459\n",
       "2  1169044  0.768471\n",
       "3  1169045  0.251175\n",
       "4  1169046  0.464559"
      ]
     },
     "execution_count": 336,
     "metadata": {},
     "output_type": "execute_result"
    }
   ],
   "source": [
    "#最終スコア0.206\n",
    "#21位/82位\n",
    "df_csv.head()"
   ]
  },
  {
   "cell_type": "code",
   "execution_count": null,
   "metadata": {},
   "outputs": [],
   "source": []
  }
 ],
 "metadata": {
  "kernelspec": {
   "display_name": "Python 3",
   "language": "python",
   "name": "python3"
  },
  "language_info": {
   "codemirror_mode": {
    "name": "ipython",
    "version": 3
   },
   "file_extension": ".py",
   "mimetype": "text/x-python",
   "name": "python",
   "nbconvert_exporter": "python",
   "pygments_lexer": "ipython3",
   "version": "3.7.3"
  }
 },
 "nbformat": 4,
 "nbformat_minor": 2
}
